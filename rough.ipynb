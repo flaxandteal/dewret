{
 "cells": [
  {
   "cell_type": "code",
   "execution_count": 1,
   "id": "6af4261e",
   "metadata": {},
   "outputs": [
    {
     "ename": "NameError",
     "evalue": "name 'a' is not defined",
     "output_type": "error",
     "traceback": [
      "\u001b[31m---------------------------------------------------------------------------\u001b[39m",
      "\u001b[31mNameError\u001b[39m                                 Traceback (most recent call last)",
      "\u001b[36mCell\u001b[39m\u001b[36m \u001b[39m\u001b[32mIn[1]\u001b[39m\u001b[32m, line 2\u001b[39m\n\u001b[32m      1\u001b[39m _w = \u001b[33mf\u001b[39m\u001b[33m\"\"\"\u001b[39m\n\u001b[32m----> \u001b[39m\u001b[32m2\u001b[39m \u001b[38;5;132;01m{\u001b[39;00m\u001b[43ma\u001b[49m\u001b[38;5;132;01m}\u001b[39;00m\n\u001b[32m      3\u001b[39m \u001b[38;5;132;01m{\u001b[39;00mb\u001b[38;5;132;01m}\u001b[39;00m\n\u001b[32m      4\u001b[39m \u001b[33m\"\"\"\u001b[39m\n",
      "\u001b[31mNameError\u001b[39m: name 'a' is not defined"
     ]
    }
   ],
   "source": [
    "_w = f\"\"\"\n",
    "{a}\n",
    "{b}\n",
    "\"\"\""
   ]
  },
  {
   "cell_type": "code",
   "execution_count": 18,
   "id": "7be346bb",
   "metadata": {},
   "outputs": [
    {
     "name": "stdout",
     "output_type": "stream",
     "text": [
      "\n",
      "1\n",
      "${b}\n",
      "\n",
      "\n",
      "1\n",
      "2\n",
      "\n"
     ]
    }
   ],
   "source": [
    "import string\n",
    "\n",
    "template = string.Template(\"\"\"\n",
    "${a}\n",
    "${b}\n",
    "\"\"\")\n",
    "partial_str = template.safe_substitute({'a': 1})  # '1 ${y}'\n",
    "final_str = string.Template(partial_str).safe_substitute({'b': 2})  # '1 2'\n",
    "\n",
    "print(partial_str)\n",
    "print(final_str)"
   ]
  },
  {
   "cell_type": "code",
   "execution_count": 15,
   "id": "0d4cff0d",
   "metadata": {},
   "outputs": [
    {
     "data": {
      "text/plain": [
       "'\\n1\\n2\\n'"
      ]
     },
     "execution_count": 15,
     "metadata": {},
     "output_type": "execute_result"
    }
   ],
   "source": [
    "\"\"\"\n",
    "1\n",
    "2\n",
    "\"\"\""
   ]
  },
  {
   "cell_type": "code",
   "execution_count": 1,
   "id": "ca3997e8",
   "metadata": {},
   "outputs": [
    {
     "ename": "KeyError",
     "evalue": "'bar'",
     "output_type": "error",
     "traceback": [
      "\u001b[31m---------------------------------------------------------------------------\u001b[39m",
      "\u001b[31mKeyError\u001b[39m                                  Traceback (most recent call last)",
      "\u001b[36mCell\u001b[39m\u001b[36m \u001b[39m\u001b[32mIn[1]\u001b[39m\u001b[32m, line 2\u001b[39m\n\u001b[32m      1\u001b[39m s = \u001b[33m'\u001b[39m\u001b[38;5;132;01m{foo}\u001b[39;00m\u001b[33m \u001b[39m\u001b[38;5;132;01m{bar}\u001b[39;00m\u001b[33m'\u001b[39m\n\u001b[32m----> \u001b[39m\u001b[32m2\u001b[39m partial = \u001b[43ms\u001b[49m\u001b[43m.\u001b[49m\u001b[43mformat\u001b[49m\u001b[43m(\u001b[49m\u001b[43mfoo\u001b[49m\u001b[43m=\u001b[49m\u001b[33;43m'\u001b[39;49m\u001b[33;43mFOO\u001b[39;49m\u001b[33;43m'\u001b[39;49m\u001b[43m)\u001b[49m  \u001b[38;5;66;03m# 'FOO {bar}'\u001b[39;00m\n",
      "\u001b[31mKeyError\u001b[39m: 'bar'"
     ]
    }
   ],
   "source": [
    "s = '{foo} {bar}'\n",
    "partial = s.format(foo='FOO')  # 'FOO {bar}'"
   ]
  },
  {
   "cell_type": "code",
   "execution_count": null,
   "id": "4298163b",
   "metadata": {},
   "outputs": [
    {
     "data": {
      "text/plain": [
       "{'cwlVersion': 1.2,\n",
       " 'class': 'Workflow',\n",
       " 'inputs': {'add-1-arg1': {'label': 'arg1', 'type': 'int', 'default': 1},\n",
       "  'add-1-arg2': {'label': 'arg2', 'type': 'int', 'default': 2}},\n",
       " 'outputs': {'out': {'label': 'out',\n",
       "   'type': 'string',\n",
       "   'outputSource': 'add-1/out'}},\n",
       " 'steps': {'add-1': {'run': 'add',\n",
       "   'in': {'arg1': {'source': 'add-1-arg1'}, 'arg2': {'source': 'add-1-arg2'}},\n",
       "   'out': ['out']}}}"
      ]
     },
     "execution_count": 2,
     "metadata": {},
     "output_type": "execute_result"
    }
   ],
   "source": [
    "from dewret.renderers.cwl import render\n",
    "from dewret.tasks import task, construct, workflow\n",
    "\n",
    "@task()\n",
    "def concat_strings(str1: str, str2: str) -> str:\n",
    "    return str1 + str2\n",
    "\n",
    "@task()\n",
    "def sum(arg1: float, arg2: float) -> float:\n",
    "    res = arg1+arg2\n",
    "    return res\n",
    "\n",
    "@workflow()\n",
    "def add(arg1: float, arg2: float) -> float:\n",
    "    res = arg1+arg2\n",
    "    return res\n",
    "\n",
    "result = add(arg1=1, arg2=2)\n",
    "workflow = construct(result, simplify_ids=True)\n",
    "cwl = render(workflow)\n",
    "cwl['__root__']"
   ]
  },
  {
   "cell_type": "code",
   "execution_count": 5,
   "id": "1c0697bb",
   "metadata": {},
   "outputs": [
    {
     "data": {
      "text/plain": [
       "{'__root__': {'cwlVersion': 1.2,\n",
       "  'class': 'Workflow',\n",
       "  'inputs': {'add-1-arg1': {'label': 'arg1', 'type': 'int', 'default': 1},\n",
       "   'add-1-arg2': {'label': 'arg2', 'type': 'int', 'default': 2}},\n",
       "  'outputs': {'out': {'label': 'out',\n",
       "    'type': 'float',\n",
       "    'outputSource': 'add-1/out'}},\n",
       "  'steps': {'add-1': {'run': 'add',\n",
       "    'in': {'arg1': {'source': 'add-1-arg1'}, 'arg2': {'source': 'add-1-arg2'}},\n",
       "    'out': ['out']}}},\n",
       " 'add-1': {'cwlVersion': 1.2,\n",
       "  'class': 'Workflow',\n",
       "  'inputs': {'arg1': {'label': 'arg1', 'type': 'int', 'default': 1},\n",
       "   'arg2': {'label': 'arg2', 'type': 'int', 'default': 2}},\n",
       "  'outputs': {'out': {'label': 'out',\n",
       "    'type': 'float',\n",
       "    'outputSource': 'sum-1-1/out'}},\n",
       "  'steps': {'sum-1-1': {'run': 'sum',\n",
       "    'in': {'arg1': {'source': 'arg1'}, 'arg2': {'source': 'arg2'}},\n",
       "    'out': ['out']}}}}"
      ]
     },
     "execution_count": 5,
     "metadata": {},
     "output_type": "execute_result"
    }
   ],
   "source": [
    "from dewret.renderers.cwl import render\n",
    "from dewret.tasks import task, construct, workflow\n",
    "\n",
    "@task()\n",
    "def concat_strings(str1: str, str2: str) -> str:\n",
    "    return str1 + str2\n",
    "\n",
    "@task()\n",
    "def sum(arg1: float, arg2: float) -> float:\n",
    "    res = arg1+arg2\n",
    "    return res\n",
    "\n",
    "@workflow()\n",
    "def add(arg1: float, arg2: float) -> float:\n",
    "    x, y = arg1, arg2\n",
    "    res = sum(arg1=x, arg2=y)\n",
    "    return res\n",
    "\n",
    "result = add(arg1=1, arg2=2)\n",
    "workflow = construct(result, simplify_ids=True)\n",
    "cwl = render(workflow)\n",
    "# cwl['__root__']\n",
    "cwl"
   ]
  },
  {
   "cell_type": "code",
   "execution_count": 6,
   "id": "34627229",
   "metadata": {},
   "outputs": [
    {
     "data": {
      "text/plain": [
       "{'__root__': {'cwlVersion': 1.2,\n",
       "  'class': 'Workflow',\n",
       "  'inputs': {},\n",
       "  'outputs': {'out': {'label': 'out',\n",
       "    'type': 'string',\n",
       "    'outputSource': 'create_greeting_in_all_caps-1/out'}},\n",
       "  'steps': {'create_greeting_in_all_caps-1': {'run': 'create_greeting_in_all_caps',\n",
       "    'in': {'prefix': {'default': 'Hello to '}, 'name': {'default': 'John'}},\n",
       "    'out': ['out']}}},\n",
       " 'create_greeting_in_all_caps-1': {'cwlVersion': 1.2,\n",
       "  'class': 'Workflow',\n",
       "  'inputs': {},\n",
       "  'outputs': {'out': {'label': 'out',\n",
       "    'type': 'string',\n",
       "    'outputSource': 'concat_strings-1-1/out'}},\n",
       "  'steps': {'concat_strings-1-1': {'run': 'concat_strings',\n",
       "    'in': {'str1': {'default': 'Hello to '}, 'str2': {'default': 'John'}},\n",
       "    'out': ['out']}}}}"
      ]
     },
     "execution_count": 6,
     "metadata": {},
     "output_type": "execute_result"
    }
   ],
   "source": [
    "from dewret.renderers.cwl import render\n",
    "from dewret.tasks import task, construct, workflow\n",
    "from dewret.annotations import AtRender\n",
    "\n",
    "@task()\n",
    "def concat_strings(str1: str, str2: str) -> str:\n",
    "    return str1 + str2\n",
    "\n",
    "@workflow()\n",
    "def create_greeting_in_all_caps(prefix: AtRender[str], name: AtRender[str]) -> str:\n",
    "    prefix_cap = prefix.capitalize()\n",
    "    name_cap = name.capitalize()\n",
    "    return concat_strings(str1=prefix_cap, str2=name_cap)\n",
    "\n",
    "result = create_greeting_in_all_caps(prefix=\"Hello to \", name=\"John\")\n",
    "workflow = construct(result, simplify_ids=True)\n",
    "cwl = render(workflow)\n",
    "cwl"
   ]
  },
  {
   "cell_type": "code",
   "execution_count": 7,
   "id": "8dc35260",
   "metadata": {},
   "outputs": [
    {
     "data": {
      "text/plain": [
       "2"
      ]
     },
     "execution_count": 7,
     "metadata": {},
     "output_type": "execute_result"
    }
   ],
   "source": [
    "round(1.5)"
   ]
  },
  {
   "cell_type": "code",
   "execution_count": 8,
   "id": "e26e58ec",
   "metadata": {},
   "outputs": [
    {
     "data": {
      "text/plain": [
       "3.0"
      ]
     },
     "execution_count": 8,
     "metadata": {},
     "output_type": "execute_result"
    }
   ],
   "source": [
    "1.0*3"
   ]
  },
  {
   "cell_type": "code",
   "execution_count": null,
   "id": "78651e0c",
   "metadata": {},
   "outputs": [
    {
     "data": {
      "text/plain": [
       "{'__root__': {'cwlVersion': 1.2,\n",
       "  'class': 'Workflow',\n",
       "  'inputs': {'create_greeting_in_all_caps-1-name': {'label': 'name',\n",
       "    'type': 'string',\n",
       "    'default': 'John'},\n",
       "   'create_greeting_in_all_caps-1-prefix': {'label': 'prefix',\n",
       "    'type': 'string',\n",
       "    'default': 'Hello to '}},\n",
       "  'outputs': {'out': {'label': 'out',\n",
       "    'type': 'string',\n",
       "    'outputSource': 'create_greeting_in_all_caps-1/out'}},\n",
       "  'steps': {'create_greeting_in_all_caps-1': {'run': 'create_greeting_in_all_caps',\n",
       "    'in': {'name': {'source': 'create_greeting_in_all_caps-1-name'},\n",
       "     'prefix': {'source': 'create_greeting_in_all_caps-1-prefix'}},\n",
       "    'out': ['out']}}},\n",
       " 'create_greeting_in_all_caps-1': {'cwlVersion': 1.2,\n",
       "  'class': 'Workflow',\n",
       "  'inputs': {'name': {'label': 'name', 'type': 'string', 'default': 'John'},\n",
       "   'prefix': {'label': 'prefix', 'type': 'string', 'default': 'Hello to '}},\n",
       "  'outputs': {'out': {'label': 'out',\n",
       "    'type': 'string',\n",
       "    'outputSource': 'concat_strings-1-1/out'}},\n",
       "  'steps': {'cap-1-1': {'run': 'cap',\n",
       "    'in': {'arg': {'source': 'name'}},\n",
       "    'out': ['out']},\n",
       "   'cap-1-2': {'run': 'cap',\n",
       "    'in': {'arg': {'source': 'prefix'}},\n",
       "    'out': ['out']},\n",
       "   'concat_strings-1-1': {'run': 'concat_strings',\n",
       "    'in': {'str1': {'source': 'cap-1-2/out'},\n",
       "     'str2': {'source': 'cap-1-1/out'}},\n",
       "    'out': ['out']}}}}"
      ]
     },
     "execution_count": 1,
     "metadata": {},
     "output_type": "execute_result"
    }
   ],
   "source": [
    "from dewret.renderers.cwl import render\n",
    "from dewret.tasks import task, construct, workflow\n",
    "\n",
    "@task()\n",
    "def concat_strings(str1: str, str2: str) -> str:\n",
    "    return str1 + str2\n",
    "\n",
    "@task()\n",
    "def cap(arg: str) -> str:\n",
    "    return arg.capitalize()\n",
    "\n",
    "@workflow()\n",
    "def create_greeting_in_all_caps(prefix: str, name: str) -> str:\n",
    "    prefix_cap = cap(arg=prefix)\n",
    "    name_cap = cap(arg=name)\n",
    "    return concat_strings(str1=prefix_cap, str2=name_cap)\n",
    "\n",
    "\n",
    "result = create_greeting_in_all_caps(prefix=\"Hello to \", name=\"John\")\n",
    "\n",
    "workflow = construct(result, simplify_ids=True)\n",
    "cwl = render(workflow)\n",
    "cwl"
   ]
  },
  {
   "cell_type": "code",
   "execution_count": 26,
   "id": "6cc0dfd5",
   "metadata": {},
   "outputs": [
    {
     "name": "stdout",
     "output_type": "stream",
     "text": [
      "pass - file is None, module is 1 and pipeline_name is 1\n"
     ]
    }
   ],
   "source": [
    "file, module, pipeline_name = None, 1, 1\n",
    "# \"test_pipeline\"\n",
    "\n",
    "match file, module, pipeline_name:\n",
    "    case None, None, None:\n",
    "        print(\"fail - all None\")\n",
    "    case file, None, None:\n",
    "        print(\"pass - only file\")\n",
    "    case (None, _, None) | (None, None, _):\n",
    "        print(\"fail - need m and p\")\n",
    "    case (_, _, None) | (_, None, _):\n",
    "        print(\"fail - need m or f\")\n",
    "    case None, module, pipeline_name:\n",
    "        print(f\"pass - file is {file}, module is {module} and pipeline_name is {pipeline_name}\")"
   ]
  },
  {
   "cell_type": "code",
   "execution_count": 53,
   "id": "2a8a0214",
   "metadata": {},
   "outputs": [
    {
     "data": {
      "text/plain": [
       "True"
      ]
     },
     "execution_count": 53,
     "metadata": {},
     "output_type": "execute_result"
    }
   ],
   "source": [
    "file, module, pipeline_name = 1, None, 1\n",
    "\n",
    "(bool(file) or (bool(module) == bool(pipeline_name)))\n"
   ]
  },
  {
   "cell_type": "code",
   "execution_count": 46,
   "id": "65f81d3e",
   "metadata": {},
   "outputs": [
    {
     "name": "stdout",
     "output_type": "stream",
     "text": [
      "True\n"
     ]
    }
   ],
   "source": [
    "print (bool(1))"
   ]
  }
 ],
 "metadata": {
  "kernelspec": {
   "display_name": "dewret-env",
   "language": "python",
   "name": "python3"
  },
  "language_info": {
   "codemirror_mode": {
    "name": "ipython",
    "version": 3
   },
   "file_extension": ".py",
   "mimetype": "text/x-python",
   "name": "python",
   "nbconvert_exporter": "python",
   "pygments_lexer": "ipython3",
   "version": "3.11.11"
  }
 },
 "nbformat": 4,
 "nbformat_minor": 5
}
