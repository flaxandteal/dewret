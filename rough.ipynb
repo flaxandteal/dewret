{
 "cells": [
  {
   "cell_type": "code",
   "execution_count": 1,
   "id": "6af4261e",
   "metadata": {},
   "outputs": [
    {
     "ename": "NameError",
     "evalue": "name 'a' is not defined",
     "output_type": "error",
     "traceback": [
      "\u001b[31m---------------------------------------------------------------------------\u001b[39m",
      "\u001b[31mNameError\u001b[39m                                 Traceback (most recent call last)",
      "\u001b[36mCell\u001b[39m\u001b[36m \u001b[39m\u001b[32mIn[1]\u001b[39m\u001b[32m, line 2\u001b[39m\n\u001b[32m      1\u001b[39m _w = \u001b[33mf\u001b[39m\u001b[33m\"\"\"\u001b[39m\n\u001b[32m----> \u001b[39m\u001b[32m2\u001b[39m \u001b[38;5;132;01m{\u001b[39;00m\u001b[43ma\u001b[49m\u001b[38;5;132;01m}\u001b[39;00m\n\u001b[32m      3\u001b[39m \u001b[38;5;132;01m{\u001b[39;00mb\u001b[38;5;132;01m}\u001b[39;00m\n\u001b[32m      4\u001b[39m \u001b[33m\"\"\"\u001b[39m\n",
      "\u001b[31mNameError\u001b[39m: name 'a' is not defined"
     ]
    }
   ],
   "source": [
    "_w = f\"\"\"\n",
    "{a}\n",
    "{b}\n",
    "\"\"\""
   ]
  },
  {
   "cell_type": "code",
   "execution_count": 18,
   "id": "7be346bb",
   "metadata": {},
   "outputs": [
    {
     "name": "stdout",
     "output_type": "stream",
     "text": [
      "\n",
      "1\n",
      "${b}\n",
      "\n",
      "\n",
      "1\n",
      "2\n",
      "\n"
     ]
    }
   ],
   "source": [
    "import string\n",
    "\n",
    "template = string.Template(\"\"\"\n",
    "${a}\n",
    "${b}\n",
    "\"\"\")\n",
    "partial_str = template.safe_substitute({'a': 1})  # '1 ${y}'\n",
    "final_str = string.Template(partial_str).safe_substitute({'b': 2})  # '1 2'\n",
    "\n",
    "print(partial_str)\n",
    "print(final_str)"
   ]
  },
  {
   "cell_type": "code",
   "execution_count": 15,
   "id": "0d4cff0d",
   "metadata": {},
   "outputs": [
    {
     "data": {
      "text/plain": [
       "'\\n1\\n2\\n'"
      ]
     },
     "execution_count": 15,
     "metadata": {},
     "output_type": "execute_result"
    }
   ],
   "source": [
    "\"\"\"\n",
    "1\n",
    "2\n",
    "\"\"\""
   ]
  },
  {
   "cell_type": "code",
   "execution_count": 1,
   "id": "ca3997e8",
   "metadata": {},
   "outputs": [
    {
     "ename": "KeyError",
     "evalue": "'bar'",
     "output_type": "error",
     "traceback": [
      "\u001b[31m---------------------------------------------------------------------------\u001b[39m",
      "\u001b[31mKeyError\u001b[39m                                  Traceback (most recent call last)",
      "\u001b[36mCell\u001b[39m\u001b[36m \u001b[39m\u001b[32mIn[1]\u001b[39m\u001b[32m, line 2\u001b[39m\n\u001b[32m      1\u001b[39m s = \u001b[33m'\u001b[39m\u001b[38;5;132;01m{foo}\u001b[39;00m\u001b[33m \u001b[39m\u001b[38;5;132;01m{bar}\u001b[39;00m\u001b[33m'\u001b[39m\n\u001b[32m----> \u001b[39m\u001b[32m2\u001b[39m partial = \u001b[43ms\u001b[49m\u001b[43m.\u001b[49m\u001b[43mformat\u001b[49m\u001b[43m(\u001b[49m\u001b[43mfoo\u001b[49m\u001b[43m=\u001b[49m\u001b[33;43m'\u001b[39;49m\u001b[33;43mFOO\u001b[39;49m\u001b[33;43m'\u001b[39;49m\u001b[43m)\u001b[49m  \u001b[38;5;66;03m# 'FOO {bar}'\u001b[39;00m\n",
      "\u001b[31mKeyError\u001b[39m: 'bar'"
     ]
    }
   ],
   "source": [
    "s = '{foo} {bar}'\n",
    "partial = s.format(foo='FOO')  # 'FOO {bar}'"
   ]
  },
  {
   "cell_type": "code",
   "execution_count": 6,
   "id": "4298163b",
   "metadata": {},
   "outputs": [
    {
     "ename": "TaskException",
     "evalue": "can only concatenate tuple (not \"dict\") to tuple",
     "output_type": "error",
     "traceback": [
      "\u001b[31m---------------------------------------------------------------------------\u001b[39m",
      "\u001b[31mTypeError\u001b[39m                                 Traceback (most recent call last)",
      "\u001b[36mFile \u001b[39m\u001b[32m~\\GithubRepos\\Dewret\\docs\\src\\dewret\\tasks.py:617\u001b[39m, in \u001b[36mtask.<locals>._task.<locals>._fn\u001b[39m\u001b[34m(__workflow__, __traceback__, *args, **kwargs)\u001b[39m\n\u001b[32m    616\u001b[39m \u001b[38;5;28;01mwith\u001b[39;00m in_nested_task():\n\u001b[32m--> \u001b[39m\u001b[32m617\u001b[39m     output = \u001b[43manalyser\u001b[49m\u001b[43m.\u001b[49m\u001b[43mwith_new_globals\u001b[49m\u001b[43m(\u001b[49m\u001b[43mnested_globals\u001b[49m\u001b[43m)\u001b[49m\u001b[43m(\u001b[49m\n\u001b[32m    618\u001b[39m \u001b[43m        \u001b[49m\u001b[43m*\u001b[49m\u001b[43m*\u001b[49m\u001b[43mnested_kwargs\u001b[49m\n\u001b[32m    619\u001b[39m \u001b[43m    \u001b[49m\u001b[43m)\u001b[49m\n\u001b[32m    620\u001b[39m     nested_workflow = _manager(\n\u001b[32m    621\u001b[39m         output, __workflow__=nested_workflow\n\u001b[32m    622\u001b[39m     )\n",
      "\u001b[36mCell\u001b[39m\u001b[36m \u001b[39m\u001b[32mIn[6]\u001b[39m\u001b[32m, line 6\u001b[39m, in \u001b[36madd\u001b[39m\u001b[34m(arg1, arg2)\u001b[39m\n\u001b[32m      4\u001b[39m \u001b[38;5;129m@workflow\u001b[39m()\n\u001b[32m      5\u001b[39m \u001b[38;5;28;01mdef\u001b[39;00m\u001b[38;5;250m \u001b[39m\u001b[34madd\u001b[39m(arg1: \u001b[38;5;28mfloat\u001b[39m, arg2: \u001b[38;5;28mfloat\u001b[39m) -> \u001b[38;5;28mfloat\u001b[39m:\n\u001b[32m----> \u001b[39m\u001b[32m6\u001b[39m     res = \u001b[43marg1\u001b[49m\u001b[43m+\u001b[49m\u001b[43marg2\u001b[49m\n\u001b[32m      7\u001b[39m     \u001b[38;5;28;01mreturn\u001b[39;00m res\n",
      "\u001b[36mFile \u001b[39m\u001b[32mc:\\Users\\esc\\.conda\\envs\\dewret-env-2\\Lib\\site-packages\\sympy\\core\\decorators.py:248\u001b[39m, in \u001b[36m_SympifyWrapper.make_wrapped.<locals>._func\u001b[39m\u001b[34m(self, other)\u001b[39m\n\u001b[32m    247\u001b[39m     \u001b[38;5;28;01mreturn\u001b[39;00m retval\n\u001b[32m--> \u001b[39m\u001b[32m248\u001b[39m \u001b[38;5;28;01mreturn\u001b[39;00m \u001b[43mfunc\u001b[49m\u001b[43m(\u001b[49m\u001b[38;5;28;43mself\u001b[39;49m\u001b[43m,\u001b[49m\u001b[43m \u001b[49m\u001b[43mother\u001b[49m\u001b[43m)\u001b[49m\n",
      "\u001b[36mFile \u001b[39m\u001b[32mc:\\Users\\esc\\.conda\\envs\\dewret-env-2\\Lib\\site-packages\\sympy\\core\\decorators.py:118\u001b[39m, in \u001b[36mcall_highest_priority.<locals>.priority_decorator.<locals>.binary_op_wrapper\u001b[39m\u001b[34m(self, other)\u001b[39m\n\u001b[32m    117\u001b[39m             \u001b[38;5;28;01mreturn\u001b[39;00m f(\u001b[38;5;28mself\u001b[39m)\n\u001b[32m--> \u001b[39m\u001b[32m118\u001b[39m \u001b[38;5;28;01mreturn\u001b[39;00m \u001b[43mfunc\u001b[49m\u001b[43m(\u001b[49m\u001b[38;5;28;43mself\u001b[39;49m\u001b[43m,\u001b[49m\u001b[43m \u001b[49m\u001b[43mother\u001b[49m\u001b[43m)\u001b[49m\n",
      "\u001b[36mFile \u001b[39m\u001b[32mc:\\Users\\esc\\.conda\\envs\\dewret-env-2\\Lib\\site-packages\\sympy\\core\\expr.py:234\u001b[39m, in \u001b[36mExpr.__add__\u001b[39m\u001b[34m(self, other)\u001b[39m\n\u001b[32m    231\u001b[39m \u001b[38;5;129m@sympify_return\u001b[39m([(\u001b[33m'\u001b[39m\u001b[33mother\u001b[39m\u001b[33m'\u001b[39m, \u001b[33m'\u001b[39m\u001b[33mExpr\u001b[39m\u001b[33m'\u001b[39m)], \u001b[38;5;28mNotImplemented\u001b[39m)\n\u001b[32m    232\u001b[39m \u001b[38;5;129m@call_highest_priority\u001b[39m(\u001b[33m'\u001b[39m\u001b[33m__radd__\u001b[39m\u001b[33m'\u001b[39m)\n\u001b[32m    233\u001b[39m \u001b[38;5;28;01mdef\u001b[39;00m\u001b[38;5;250m \u001b[39m\u001b[34m__add__\u001b[39m(\u001b[38;5;28mself\u001b[39m, other) -> Expr:\n\u001b[32m--> \u001b[39m\u001b[32m234\u001b[39m     \u001b[38;5;28;01mreturn\u001b[39;00m \u001b[43mAdd\u001b[49m\u001b[43m(\u001b[49m\u001b[38;5;28;43mself\u001b[39;49m\u001b[43m,\u001b[49m\u001b[43m \u001b[49m\u001b[43mother\u001b[49m\u001b[43m)\u001b[49m\n",
      "\u001b[36mFile \u001b[39m\u001b[32mc:\\Users\\esc\\.conda\\envs\\dewret-env-2\\Lib\\site-packages\\sympy\\core\\cache.py:72\u001b[39m, in \u001b[36m__cacheit.<locals>.func_wrapper.<locals>.wrapper\u001b[39m\u001b[34m(*args, **kwargs)\u001b[39m\n\u001b[32m     71\u001b[39m \u001b[38;5;28;01mtry\u001b[39;00m:\n\u001b[32m---> \u001b[39m\u001b[32m72\u001b[39m     retval = \u001b[43mcfunc\u001b[49m\u001b[43m(\u001b[49m\u001b[43m*\u001b[49m\u001b[43margs\u001b[49m\u001b[43m,\u001b[49m\u001b[43m \u001b[49m\u001b[43m*\u001b[49m\u001b[43m*\u001b[49m\u001b[43mkwargs\u001b[49m\u001b[43m)\u001b[49m\n\u001b[32m     73\u001b[39m \u001b[38;5;28;01mexcept\u001b[39;00m \u001b[38;5;167;01mTypeError\u001b[39;00m \u001b[38;5;28;01mas\u001b[39;00m e:\n",
      "\u001b[36mFile \u001b[39m\u001b[32mc:\\Users\\esc\\.conda\\envs\\dewret-env-2\\Lib\\site-packages\\sympy\\core\\operations.py:108\u001b[39m, in \u001b[36mAssocOp.__new__\u001b[39m\u001b[34m(cls, evaluate, _sympify, *args)\u001b[39m\n\u001b[32m    106\u001b[39m     \u001b[38;5;28;01mreturn\u001b[39;00m args[\u001b[32m0\u001b[39m]\n\u001b[32m--> \u001b[39m\u001b[32m108\u001b[39m c_part, nc_part, order_symbols = \u001b[38;5;28;43mcls\u001b[39;49m\u001b[43m.\u001b[49m\u001b[43mflatten\u001b[49m\u001b[43m(\u001b[49m\u001b[43margs\u001b[49m\u001b[43m)\u001b[49m\n\u001b[32m    109\u001b[39m is_commutative = \u001b[38;5;129;01mnot\u001b[39;00m nc_part\n",
      "\u001b[36mFile \u001b[39m\u001b[32mc:\\Users\\esc\\.conda\\envs\\dewret-env-2\\Lib\\site-packages\\sympy\\core\\add.py:392\u001b[39m, in \u001b[36mAdd.flatten\u001b[39m\u001b[34m(cls, seq)\u001b[39m\n\u001b[32m    391\u001b[39m \u001b[38;5;66;03m# order args canonically\u001b[39;00m\n\u001b[32m--> \u001b[39m\u001b[32m392\u001b[39m \u001b[43m_addsort\u001b[49m\u001b[43m(\u001b[49m\u001b[43mnewseq\u001b[49m\u001b[43m)\u001b[49m\n\u001b[32m    394\u001b[39m \u001b[38;5;66;03m# current code expects coeff to be first\u001b[39;00m\n",
      "\u001b[36mFile \u001b[39m\u001b[32mc:\\Users\\esc\\.conda\\envs\\dewret-env-2\\Lib\\site-packages\\sympy\\core\\add.py:42\u001b[39m, in \u001b[36m_addsort\u001b[39m\u001b[34m(args)\u001b[39m\n\u001b[32m     40\u001b[39m \u001b[38;5;28;01mdef\u001b[39;00m\u001b[38;5;250m \u001b[39m\u001b[34m_addsort\u001b[39m(args):\n\u001b[32m     41\u001b[39m     \u001b[38;5;66;03m# in-place sorting of args\u001b[39;00m\n\u001b[32m---> \u001b[39m\u001b[32m42\u001b[39m     \u001b[43margs\u001b[49m\u001b[43m.\u001b[49m\u001b[43msort\u001b[49m\u001b[43m(\u001b[49m\u001b[43mkey\u001b[49m\u001b[43m=\u001b[49m\u001b[43m_args_sortkey\u001b[49m\u001b[43m)\u001b[49m\n",
      "\u001b[36mFile \u001b[39m\u001b[32mc:\\Users\\esc\\.conda\\envs\\dewret-env-2\\Lib\\site-packages\\sympy\\core\\basic.py:404\u001b[39m, in \u001b[36mBasic.compare\u001b[39m\u001b[34m(self, other)\u001b[39m\n\u001b[32m    403\u001b[39m \u001b[38;5;66;03m#\u001b[39;00m\n\u001b[32m--> \u001b[39m\u001b[32m404\u001b[39m st = \u001b[38;5;28;43mself\u001b[39;49m\u001b[43m.\u001b[49m\u001b[43m_hashable_content\u001b[49m\u001b[43m(\u001b[49m\u001b[43m)\u001b[49m\n\u001b[32m    405\u001b[39m ot = other._hashable_content()\n",
      "\u001b[36mFile \u001b[39m\u001b[32mc:\\Users\\esc\\.conda\\envs\\dewret-env-2\\Lib\\site-packages\\sympy\\core\\symbol.py:411\u001b[39m, in \u001b[36mSymbol._hashable_content\u001b[39m\u001b[34m(self)\u001b[39m\n\u001b[32m    410\u001b[39m \u001b[38;5;28;01mdef\u001b[39;00m\u001b[38;5;250m \u001b[39m\u001b[34m_hashable_content\u001b[39m(\u001b[38;5;28mself\u001b[39m):\n\u001b[32m--> \u001b[39m\u001b[32m411\u001b[39m     \u001b[38;5;28;01mreturn\u001b[39;00m \u001b[43m(\u001b[49m\u001b[38;5;28;43mself\u001b[39;49m\u001b[43m.\u001b[49m\u001b[43mname\u001b[49m\u001b[43m,\u001b[49m\u001b[43m)\u001b[49m\u001b[43m \u001b[49m\u001b[43m+\u001b[49m\u001b[43m \u001b[49m\u001b[38;5;28;43mself\u001b[39;49m\u001b[43m.\u001b[49m\u001b[43m_assumptions0\u001b[49m\n",
      "\u001b[31mTypeError\u001b[39m: can only concatenate tuple (not \"dict\") to tuple",
      "\nThe above exception was the direct cause of the following exception:\n",
      "\u001b[31mTaskException\u001b[39m                             Traceback (most recent call last)",
      "\u001b[36mCell\u001b[39m\u001b[36m \u001b[39m\u001b[32mIn[6]\u001b[39m\u001b[32m, line 9\u001b[39m\n\u001b[32m      6\u001b[39m     res = arg1+arg2\n\u001b[32m      7\u001b[39m     \u001b[38;5;28;01mreturn\u001b[39;00m res\n\u001b[32m----> \u001b[39m\u001b[32m9\u001b[39m result = \u001b[43madd\u001b[49m\u001b[43m(\u001b[49m\u001b[43marg1\u001b[49m\u001b[43m=\u001b[49m\u001b[32;43m1\u001b[39;49m\u001b[43m,\u001b[49m\u001b[43m \u001b[49m\u001b[43marg2\u001b[49m\u001b[43m=\u001b[49m\u001b[32;43m2\u001b[39;49m\u001b[43m)\u001b[49m\n\u001b[32m     10\u001b[39m workflow = construct(result, simplify_ids=\u001b[38;5;28;01mTrue\u001b[39;00m)\n\u001b[32m     11\u001b[39m cwl = render(workflow)\n",
      "\u001b[36mFile \u001b[39m\u001b[32m~\\GithubRepos\\Dewret\\docs\\src\\dewret\\workflow.py:106\u001b[39m, in \u001b[36mLazyEvaluation.__call__\u001b[39m\u001b[34m(self, *args, **kwargs)\u001b[39m\n\u001b[32m     97\u001b[39m \u001b[38;5;250m\u001b[39m\u001b[33;03m\"\"\"Wrapper around a lazy execution.\u001b[39;00m\n\u001b[32m     98\u001b[39m \n\u001b[32m     99\u001b[39m \u001b[33;03mCaptures a traceback, for debugging if this does not work.\u001b[39;00m\n\u001b[32m   (...)\u001b[39m\u001b[32m    103\u001b[39m \u001b[33;03mis attempted.\u001b[39;00m\n\u001b[32m    104\u001b[39m \u001b[33;03m\"\"\"\u001b[39;00m\n\u001b[32m    105\u001b[39m tb = make_traceback()\n\u001b[32m--> \u001b[39m\u001b[32m106\u001b[39m result = \u001b[38;5;28;43mself\u001b[39;49m\u001b[43m.\u001b[49m\u001b[43m_fn\u001b[49m\u001b[43m(\u001b[49m\u001b[43m*\u001b[49m\u001b[43margs\u001b[49m\u001b[43m,\u001b[49m\u001b[43m \u001b[49m\u001b[43m*\u001b[49m\u001b[43m*\u001b[49m\u001b[43mkwargs\u001b[49m\u001b[43m,\u001b[49m\u001b[43m \u001b[49m\u001b[43m__traceback__\u001b[49m\u001b[43m=\u001b[49m\u001b[43mtb\u001b[49m\u001b[43m)\u001b[49m  \u001b[38;5;66;03m# type: ignore[arg-type]\u001b[39;00m\n\u001b[32m    107\u001b[39m \u001b[38;5;28;01mreturn\u001b[39;00m result\n",
      "\u001b[36mFile \u001b[39m\u001b[32m~\\GithubRepos\\Dewret\\docs\\src\\dewret\\tasks.py:649\u001b[39m, in \u001b[36mtask.<locals>._task.<locals>._fn\u001b[39m\u001b[34m(__workflow__, __traceback__, *args, **kwargs)\u001b[39m\n\u001b[32m    647\u001b[39m     \u001b[38;5;28;01mraise\u001b[39;00m exc\n\u001b[32m    648\u001b[39m \u001b[38;5;28;01mexcept\u001b[39;00m \u001b[38;5;167;01mException\u001b[39;00m \u001b[38;5;28;01mas\u001b[39;00m exc:\n\u001b[32m--> \u001b[39m\u001b[32m649\u001b[39m     \u001b[38;5;28;01mraise\u001b[39;00m TaskException(\n\u001b[32m    650\u001b[39m         fn,\n\u001b[32m    651\u001b[39m         declaration_tb,\n\u001b[32m    652\u001b[39m         __traceback__,\n\u001b[32m    653\u001b[39m         exc.args[\u001b[32m0\u001b[39m] \u001b[38;5;28;01mif\u001b[39;00m exc.args \u001b[38;5;28;01melse\u001b[39;00m \u001b[33mf\u001b[39m\u001b[33m\"\u001b[39m\u001b[33mCould not call task \u001b[39m\u001b[38;5;132;01m{\u001b[39;00mfn.\u001b[34m__name__\u001b[39m\u001b[38;5;132;01m}\u001b[39;00m\u001b[33m\"\u001b[39m,\n\u001b[32m    654\u001b[39m     ) \u001b[38;5;28;01mfrom\u001b[39;00m\u001b[38;5;250m \u001b[39m\u001b[34;01mexc\u001b[39;00m\n\u001b[32m    655\u001b[39m \u001b[38;5;28;01mfinally\u001b[39;00m:\n\u001b[32m    656\u001b[39m     \u001b[38;5;28;01mif\u001b[39;00m configuration:\n",
      "\u001b[36mFile \u001b[39m\u001b[32m<frozen runpy>:198\u001b[39m, in \u001b[36m_run_module_as_main\u001b[39m\u001b[34m(mod_name, alter_argv)\u001b[39m\n",
      "\u001b[36mFile \u001b[39m\u001b[32m<frozen runpy>:88\u001b[39m, in \u001b[36m_run_code\u001b[39m\u001b[34m(code, run_globals, init_globals, mod_name, mod_spec, pkg_name, script_name)\u001b[39m\n",
      "\u001b[36mFile \u001b[39m\u001b[32mc:\\Users\\esc\\.conda\\envs\\dewret-env-2\\Lib\\site-packages\\ipykernel_launcher.py:18\u001b[39m\n\u001b[32m     14\u001b[39m     \u001b[38;5;28;01mdel\u001b[39;00m sys.path[\u001b[32m0\u001b[39m]\n\u001b[32m     16\u001b[39m \u001b[38;5;28;01mfrom\u001b[39;00m\u001b[38;5;250m \u001b[39m\u001b[34;01mipykernel\u001b[39;00m\u001b[38;5;250m \u001b[39m\u001b[38;5;28;01mimport\u001b[39;00m kernelapp \u001b[38;5;28;01mas\u001b[39;00m app\n\u001b[32m---> \u001b[39m\u001b[32m18\u001b[39m \u001b[43mapp\u001b[49m\u001b[43m.\u001b[49m\u001b[43mlaunch_new_instance\u001b[49m\u001b[43m(\u001b[49m\u001b[43m)\u001b[49m\n",
      "\u001b[36mFile \u001b[39m\u001b[32mc:\\Users\\esc\\.conda\\envs\\dewret-env-2\\Lib\\site-packages\\traitlets\\config\\application.py:1075\u001b[39m, in \u001b[36mApplication.launch_instance\u001b[39m\u001b[34m(cls, argv, **kwargs)\u001b[39m\n\u001b[32m   1073\u001b[39m app = \u001b[38;5;28mcls\u001b[39m.instance(**kwargs)\n\u001b[32m   1074\u001b[39m app.initialize(argv)\n\u001b[32m-> \u001b[39m\u001b[32m1075\u001b[39m \u001b[43mapp\u001b[49m\u001b[43m.\u001b[49m\u001b[43mstart\u001b[49m\u001b[43m(\u001b[49m\u001b[43m)\u001b[49m\n",
      "\u001b[36mFile \u001b[39m\u001b[32mc:\\Users\\esc\\.conda\\envs\\dewret-env-2\\Lib\\site-packages\\ipykernel\\kernelapp.py:739\u001b[39m, in \u001b[36mIPKernelApp.start\u001b[39m\u001b[34m(self)\u001b[39m\n\u001b[32m    737\u001b[39m \u001b[38;5;28;01melse\u001b[39;00m:\n\u001b[32m    738\u001b[39m     \u001b[38;5;28;01mtry\u001b[39;00m:\n\u001b[32m--> \u001b[39m\u001b[32m739\u001b[39m         \u001b[38;5;28;43mself\u001b[39;49m\u001b[43m.\u001b[49m\u001b[43mio_loop\u001b[49m\u001b[43m.\u001b[49m\u001b[43mstart\u001b[49m\u001b[43m(\u001b[49m\u001b[43m)\u001b[49m\n\u001b[32m    740\u001b[39m     \u001b[38;5;28;01mexcept\u001b[39;00m \u001b[38;5;167;01mKeyboardInterrupt\u001b[39;00m:\n\u001b[32m    741\u001b[39m         \u001b[38;5;28;01mpass\u001b[39;00m\n",
      "\u001b[36mFile \u001b[39m\u001b[32mc:\\Users\\esc\\.conda\\envs\\dewret-env-2\\Lib\\site-packages\\tornado\\platform\\asyncio.py:195\u001b[39m, in \u001b[36mBaseAsyncIOLoop.start\u001b[39m\u001b[34m(self)\u001b[39m\n\u001b[32m    194\u001b[39m \u001b[38;5;28;01mdef\u001b[39;00m\u001b[38;5;250m \u001b[39m\u001b[34mstart\u001b[39m(\u001b[38;5;28mself\u001b[39m) -> \u001b[38;5;28;01mNone\u001b[39;00m:\n\u001b[32m--> \u001b[39m\u001b[32m195\u001b[39m     \u001b[38;5;28;43mself\u001b[39;49m\u001b[43m.\u001b[49m\u001b[43masyncio_loop\u001b[49m\u001b[43m.\u001b[49m\u001b[43mrun_forever\u001b[49m\u001b[43m(\u001b[49m\u001b[43m)\u001b[49m\n",
      "\u001b[36mFile \u001b[39m\u001b[32mc:\\Users\\esc\\.conda\\envs\\dewret-env-2\\Lib\\asyncio\\base_events.py:608\u001b[39m, in \u001b[36mBaseEventLoop.run_forever\u001b[39m\u001b[34m(self)\u001b[39m\n\u001b[32m    606\u001b[39m events._set_running_loop(\u001b[38;5;28mself\u001b[39m)\n\u001b[32m    607\u001b[39m \u001b[38;5;28;01mwhile\u001b[39;00m \u001b[38;5;28;01mTrue\u001b[39;00m:\n\u001b[32m--> \u001b[39m\u001b[32m608\u001b[39m     \u001b[38;5;28;43mself\u001b[39;49m\u001b[43m.\u001b[49m\u001b[43m_run_once\u001b[49m\u001b[43m(\u001b[49m\u001b[43m)\u001b[49m\n\u001b[32m    609\u001b[39m     \u001b[38;5;28;01mif\u001b[39;00m \u001b[38;5;28mself\u001b[39m._stopping:\n\u001b[32m    610\u001b[39m         \u001b[38;5;28;01mbreak\u001b[39;00m\n",
      "\u001b[36mFile \u001b[39m\u001b[32mc:\\Users\\esc\\.conda\\envs\\dewret-env-2\\Lib\\asyncio\\base_events.py:1936\u001b[39m, in \u001b[36mBaseEventLoop._run_once\u001b[39m\u001b[34m(self)\u001b[39m\n\u001b[32m   1934\u001b[39m             \u001b[38;5;28mself\u001b[39m._current_handle = \u001b[38;5;28;01mNone\u001b[39;00m\n\u001b[32m   1935\u001b[39m     \u001b[38;5;28;01melse\u001b[39;00m:\n\u001b[32m-> \u001b[39m\u001b[32m1936\u001b[39m         \u001b[43mhandle\u001b[49m\u001b[43m.\u001b[49m\u001b[43m_run\u001b[49m\u001b[43m(\u001b[49m\u001b[43m)\u001b[49m\n\u001b[32m   1937\u001b[39m handle = \u001b[38;5;28;01mNone\u001b[39;00m\n",
      "\u001b[36mFile \u001b[39m\u001b[32mc:\\Users\\esc\\.conda\\envs\\dewret-env-2\\Lib\\asyncio\\events.py:84\u001b[39m, in \u001b[36mHandle._run\u001b[39m\u001b[34m(self)\u001b[39m\n\u001b[32m     82\u001b[39m \u001b[38;5;28;01mdef\u001b[39;00m\u001b[38;5;250m \u001b[39m\u001b[34m_run\u001b[39m(\u001b[38;5;28mself\u001b[39m):\n\u001b[32m     83\u001b[39m     \u001b[38;5;28;01mtry\u001b[39;00m:\n\u001b[32m---> \u001b[39m\u001b[32m84\u001b[39m         \u001b[38;5;28;43mself\u001b[39;49m\u001b[43m.\u001b[49m\u001b[43m_context\u001b[49m\u001b[43m.\u001b[49m\u001b[43mrun\u001b[49m\u001b[43m(\u001b[49m\u001b[38;5;28;43mself\u001b[39;49m\u001b[43m.\u001b[49m\u001b[43m_callback\u001b[49m\u001b[43m,\u001b[49m\u001b[43m \u001b[49m\u001b[43m*\u001b[49m\u001b[38;5;28;43mself\u001b[39;49m\u001b[43m.\u001b[49m\u001b[43m_args\u001b[49m\u001b[43m)\u001b[49m\n\u001b[32m     85\u001b[39m     \u001b[38;5;28;01mexcept\u001b[39;00m (\u001b[38;5;167;01mSystemExit\u001b[39;00m, \u001b[38;5;167;01mKeyboardInterrupt\u001b[39;00m):\n\u001b[32m     86\u001b[39m         \u001b[38;5;28;01mraise\u001b[39;00m\n",
      "\u001b[36mFile \u001b[39m\u001b[32mc:\\Users\\esc\\.conda\\envs\\dewret-env-2\\Lib\\site-packages\\ipykernel\\kernelbase.py:545\u001b[39m, in \u001b[36mKernel.dispatch_queue\u001b[39m\u001b[34m(self)\u001b[39m\n\u001b[32m    543\u001b[39m \u001b[38;5;28;01mwhile\u001b[39;00m \u001b[38;5;28;01mTrue\u001b[39;00m:\n\u001b[32m    544\u001b[39m     \u001b[38;5;28;01mtry\u001b[39;00m:\n\u001b[32m--> \u001b[39m\u001b[32m545\u001b[39m         \u001b[38;5;28;01mawait\u001b[39;00m \u001b[38;5;28mself\u001b[39m.process_one()\n\u001b[32m    546\u001b[39m     \u001b[38;5;28;01mexcept\u001b[39;00m \u001b[38;5;167;01mException\u001b[39;00m:\n\u001b[32m    547\u001b[39m         \u001b[38;5;28mself\u001b[39m.log.exception(\u001b[33m\"\u001b[39m\u001b[33mError in message handler\u001b[39m\u001b[33m\"\u001b[39m)\n",
      "\u001b[36mFile \u001b[39m\u001b[32mc:\\Users\\esc\\.conda\\envs\\dewret-env-2\\Lib\\site-packages\\ipykernel\\kernelbase.py:534\u001b[39m, in \u001b[36mKernel.process_one\u001b[39m\u001b[34m(self, wait)\u001b[39m\n\u001b[32m    532\u001b[39m     \u001b[38;5;28;01mexcept\u001b[39;00m (asyncio.QueueEmpty, QueueEmpty):\n\u001b[32m    533\u001b[39m         \u001b[38;5;28;01mreturn\u001b[39;00m\n\u001b[32m--> \u001b[39m\u001b[32m534\u001b[39m \u001b[38;5;28;01mawait\u001b[39;00m dispatch(*args)\n",
      "\u001b[36mFile \u001b[39m\u001b[32mc:\\Users\\esc\\.conda\\envs\\dewret-env-2\\Lib\\site-packages\\ipykernel\\kernelbase.py:437\u001b[39m, in \u001b[36mKernel.dispatch_shell\u001b[39m\u001b[34m(self, msg)\u001b[39m\n\u001b[32m    435\u001b[39m     result = handler(\u001b[38;5;28mself\u001b[39m.shell_stream, idents, msg)\n\u001b[32m    436\u001b[39m     \u001b[38;5;28;01mif\u001b[39;00m inspect.isawaitable(result):\n\u001b[32m--> \u001b[39m\u001b[32m437\u001b[39m         \u001b[38;5;28;01mawait\u001b[39;00m result\n\u001b[32m    438\u001b[39m \u001b[38;5;28;01mexcept\u001b[39;00m \u001b[38;5;167;01mException\u001b[39;00m:\n\u001b[32m    439\u001b[39m     \u001b[38;5;28mself\u001b[39m.log.error(\u001b[33m\"\u001b[39m\u001b[33mException in message handler:\u001b[39m\u001b[33m\"\u001b[39m, exc_info=\u001b[38;5;28;01mTrue\u001b[39;00m)  \u001b[38;5;66;03m# noqa: G201\u001b[39;00m\n",
      "\u001b[36mFile \u001b[39m\u001b[32mc:\\Users\\esc\\.conda\\envs\\dewret-env-2\\Lib\\site-packages\\ipykernel\\ipkernel.py:362\u001b[39m, in \u001b[36mIPythonKernel.execute_request\u001b[39m\u001b[34m(self, stream, ident, parent)\u001b[39m\n\u001b[32m    360\u001b[39m parent_header = extract_header(parent)\n\u001b[32m    361\u001b[39m \u001b[38;5;28mself\u001b[39m._associate_new_top_level_threads_with(parent_header)\n\u001b[32m--> \u001b[39m\u001b[32m362\u001b[39m \u001b[38;5;28;01mawait\u001b[39;00m \u001b[38;5;28msuper\u001b[39m().execute_request(stream, ident, parent)\n",
      "\u001b[36mFile \u001b[39m\u001b[32mc:\\Users\\esc\\.conda\\envs\\dewret-env-2\\Lib\\site-packages\\ipykernel\\kernelbase.py:778\u001b[39m, in \u001b[36mKernel.execute_request\u001b[39m\u001b[34m(self, stream, ident, parent)\u001b[39m\n\u001b[32m    775\u001b[39m reply_content = \u001b[38;5;28mself\u001b[39m.do_execute(**do_execute_args)\n\u001b[32m    777\u001b[39m \u001b[38;5;28;01mif\u001b[39;00m inspect.isawaitable(reply_content):\n\u001b[32m--> \u001b[39m\u001b[32m778\u001b[39m     reply_content = \u001b[38;5;28;01mawait\u001b[39;00m reply_content\n\u001b[32m    780\u001b[39m \u001b[38;5;66;03m# Flush output before sending the reply.\u001b[39;00m\n\u001b[32m    781\u001b[39m sys.stdout.flush()\n",
      "\u001b[36mFile \u001b[39m\u001b[32mc:\\Users\\esc\\.conda\\envs\\dewret-env-2\\Lib\\site-packages\\ipykernel\\ipkernel.py:449\u001b[39m, in \u001b[36mIPythonKernel.do_execute\u001b[39m\u001b[34m(self, code, silent, store_history, user_expressions, allow_stdin, cell_meta, cell_id)\u001b[39m\n\u001b[32m    444\u001b[39m \u001b[38;5;28;01melse\u001b[39;00m:\n\u001b[32m    445\u001b[39m     \u001b[38;5;66;03m# runner isn't already running,\u001b[39;00m\n\u001b[32m    446\u001b[39m     \u001b[38;5;66;03m# make synchronous call,\u001b[39;00m\n\u001b[32m    447\u001b[39m     \u001b[38;5;66;03m# letting shell dispatch to loop runners\u001b[39;00m\n\u001b[32m    448\u001b[39m     \u001b[38;5;28;01mif\u001b[39;00m accepts_params[\u001b[33m\"\u001b[39m\u001b[33mcell_id\u001b[39m\u001b[33m\"\u001b[39m]:\n\u001b[32m--> \u001b[39m\u001b[32m449\u001b[39m         res = \u001b[43mshell\u001b[49m\u001b[43m.\u001b[49m\u001b[43mrun_cell\u001b[49m\u001b[43m(\u001b[49m\n\u001b[32m    450\u001b[39m \u001b[43m            \u001b[49m\u001b[43mcode\u001b[49m\u001b[43m,\u001b[49m\n\u001b[32m    451\u001b[39m \u001b[43m            \u001b[49m\u001b[43mstore_history\u001b[49m\u001b[43m=\u001b[49m\u001b[43mstore_history\u001b[49m\u001b[43m,\u001b[49m\n\u001b[32m    452\u001b[39m \u001b[43m            \u001b[49m\u001b[43msilent\u001b[49m\u001b[43m=\u001b[49m\u001b[43msilent\u001b[49m\u001b[43m,\u001b[49m\n\u001b[32m    453\u001b[39m \u001b[43m            \u001b[49m\u001b[43mcell_id\u001b[49m\u001b[43m=\u001b[49m\u001b[43mcell_id\u001b[49m\u001b[43m,\u001b[49m\n\u001b[32m    454\u001b[39m \u001b[43m        \u001b[49m\u001b[43m)\u001b[49m\n\u001b[32m    455\u001b[39m     \u001b[38;5;28;01melse\u001b[39;00m:\n\u001b[32m    456\u001b[39m         res = shell.run_cell(code, store_history=store_history, silent=silent)\n",
      "\u001b[36mFile \u001b[39m\u001b[32mc:\\Users\\esc\\.conda\\envs\\dewret-env-2\\Lib\\site-packages\\ipykernel\\zmqshell.py:549\u001b[39m, in \u001b[36mZMQInteractiveShell.run_cell\u001b[39m\u001b[34m(self, *args, **kwargs)\u001b[39m\n\u001b[32m    547\u001b[39m \u001b[38;5;250m\u001b[39m\u001b[33;03m\"\"\"Run a cell.\"\"\"\u001b[39;00m\n\u001b[32m    548\u001b[39m \u001b[38;5;28mself\u001b[39m._last_traceback = \u001b[38;5;28;01mNone\u001b[39;00m\n\u001b[32m--> \u001b[39m\u001b[32m549\u001b[39m \u001b[38;5;28;01mreturn\u001b[39;00m \u001b[38;5;28;43msuper\u001b[39;49m\u001b[43m(\u001b[49m\u001b[43m)\u001b[49m\u001b[43m.\u001b[49m\u001b[43mrun_cell\u001b[49m\u001b[43m(\u001b[49m\u001b[43m*\u001b[49m\u001b[43margs\u001b[49m\u001b[43m,\u001b[49m\u001b[43m \u001b[49m\u001b[43m*\u001b[49m\u001b[43m*\u001b[49m\u001b[43mkwargs\u001b[49m\u001b[43m)\u001b[49m\n",
      "\u001b[36mFile \u001b[39m\u001b[32mc:\\Users\\esc\\.conda\\envs\\dewret-env-2\\Lib\\site-packages\\IPython\\core\\interactiveshell.py:3100\u001b[39m, in \u001b[36mInteractiveShell.run_cell\u001b[39m\u001b[34m(self, raw_cell, store_history, silent, shell_futures, cell_id)\u001b[39m\n\u001b[32m   3098\u001b[39m \u001b[38;5;28;01mwith\u001b[39;00m \u001b[38;5;28mself\u001b[39m._tee(channel=\u001b[33m\"\u001b[39m\u001b[33mstdout\u001b[39m\u001b[33m\"\u001b[39m), \u001b[38;5;28mself\u001b[39m._tee(channel=\u001b[33m\"\u001b[39m\u001b[33mstderr\u001b[39m\u001b[33m\"\u001b[39m):\n\u001b[32m   3099\u001b[39m     \u001b[38;5;28;01mtry\u001b[39;00m:\n\u001b[32m-> \u001b[39m\u001b[32m3100\u001b[39m         result = \u001b[38;5;28;43mself\u001b[39;49m\u001b[43m.\u001b[49m\u001b[43m_run_cell\u001b[49m\u001b[43m(\u001b[49m\n\u001b[32m   3101\u001b[39m \u001b[43m            \u001b[49m\u001b[43mraw_cell\u001b[49m\u001b[43m,\u001b[49m\u001b[43m \u001b[49m\u001b[43mstore_history\u001b[49m\u001b[43m,\u001b[49m\u001b[43m \u001b[49m\u001b[43msilent\u001b[49m\u001b[43m,\u001b[49m\u001b[43m \u001b[49m\u001b[43mshell_futures\u001b[49m\u001b[43m,\u001b[49m\u001b[43m \u001b[49m\u001b[43mcell_id\u001b[49m\n\u001b[32m   3102\u001b[39m \u001b[43m        \u001b[49m\u001b[43m)\u001b[49m\n\u001b[32m   3103\u001b[39m     \u001b[38;5;28;01mfinally\u001b[39;00m:\n\u001b[32m   3104\u001b[39m         \u001b[38;5;28mself\u001b[39m.events.trigger(\u001b[33m\"\u001b[39m\u001b[33mpost_execute\u001b[39m\u001b[33m\"\u001b[39m)\n",
      "\u001b[36mFile \u001b[39m\u001b[32mc:\\Users\\esc\\.conda\\envs\\dewret-env-2\\Lib\\site-packages\\IPython\\core\\interactiveshell.py:3155\u001b[39m, in \u001b[36mInteractiveShell._run_cell\u001b[39m\u001b[34m(self, raw_cell, store_history, silent, shell_futures, cell_id)\u001b[39m\n\u001b[32m   3152\u001b[39m     runner = _pseudo_sync_runner\n\u001b[32m   3154\u001b[39m \u001b[38;5;28;01mtry\u001b[39;00m:\n\u001b[32m-> \u001b[39m\u001b[32m3155\u001b[39m     result = \u001b[43mrunner\u001b[49m\u001b[43m(\u001b[49m\u001b[43mcoro\u001b[49m\u001b[43m)\u001b[49m\n\u001b[32m   3156\u001b[39m \u001b[38;5;28;01mexcept\u001b[39;00m \u001b[38;5;167;01mBaseException\u001b[39;00m \u001b[38;5;28;01mas\u001b[39;00m e:\n\u001b[32m   3157\u001b[39m     \u001b[38;5;28;01mtry\u001b[39;00m:\n",
      "\u001b[36mFile \u001b[39m\u001b[32mc:\\Users\\esc\\.conda\\envs\\dewret-env-2\\Lib\\site-packages\\IPython\\core\\async_helpers.py:128\u001b[39m, in \u001b[36m_pseudo_sync_runner\u001b[39m\u001b[34m(coro)\u001b[39m\n\u001b[32m    120\u001b[39m \u001b[38;5;250m\u001b[39m\u001b[33;03m\"\"\"\u001b[39;00m\n\u001b[32m    121\u001b[39m \u001b[33;03mA runner that does not really allow async execution, and just advance the coroutine.\u001b[39;00m\n\u001b[32m    122\u001b[39m \n\u001b[32m   (...)\u001b[39m\u001b[32m    125\u001b[39m \u001b[33;03mCredit to Nathaniel Smith\u001b[39;00m\n\u001b[32m    126\u001b[39m \u001b[33;03m\"\"\"\u001b[39;00m\n\u001b[32m    127\u001b[39m \u001b[38;5;28;01mtry\u001b[39;00m:\n\u001b[32m--> \u001b[39m\u001b[32m128\u001b[39m     coro.send(\u001b[38;5;28;01mNone\u001b[39;00m)\n\u001b[32m    129\u001b[39m \u001b[38;5;28;01mexcept\u001b[39;00m \u001b[38;5;167;01mStopIteration\u001b[39;00m \u001b[38;5;28;01mas\u001b[39;00m exc:\n\u001b[32m    130\u001b[39m     \u001b[38;5;28;01mreturn\u001b[39;00m exc.value\n",
      "\u001b[36mFile \u001b[39m\u001b[32mc:\\Users\\esc\\.conda\\envs\\dewret-env-2\\Lib\\site-packages\\IPython\\core\\interactiveshell.py:3367\u001b[39m, in \u001b[36mInteractiveShell.run_cell_async\u001b[39m\u001b[34m(self, raw_cell, store_history, silent, shell_futures, transformed_cell, preprocessing_exc_tuple, cell_id)\u001b[39m\n\u001b[32m   3363\u001b[39m \u001b[38;5;66;03m# Execute the user code\u001b[39;00m\n\u001b[32m   3364\u001b[39m interactivity = \u001b[33m\"\u001b[39m\u001b[33mnone\u001b[39m\u001b[33m\"\u001b[39m \u001b[38;5;28;01mif\u001b[39;00m silent \u001b[38;5;28;01melse\u001b[39;00m \u001b[38;5;28mself\u001b[39m.ast_node_interactivity\n\u001b[32m-> \u001b[39m\u001b[32m3367\u001b[39m has_raised = \u001b[38;5;28;01mawait\u001b[39;00m \u001b[38;5;28mself\u001b[39m.run_ast_nodes(code_ast.body, cell_name,\n\u001b[32m   3368\u001b[39m        interactivity=interactivity, compiler=compiler, result=result)\n\u001b[32m   3370\u001b[39m \u001b[38;5;28mself\u001b[39m.last_execution_succeeded = \u001b[38;5;129;01mnot\u001b[39;00m has_raised\n\u001b[32m   3371\u001b[39m \u001b[38;5;28mself\u001b[39m.last_execution_result = result\n",
      "\u001b[36mFile \u001b[39m\u001b[32mc:\\Users\\esc\\.conda\\envs\\dewret-env-2\\Lib\\site-packages\\IPython\\core\\interactiveshell.py:3612\u001b[39m, in \u001b[36mInteractiveShell.run_ast_nodes\u001b[39m\u001b[34m(self, nodelist, cell_name, interactivity, compiler, result)\u001b[39m\n\u001b[32m   3610\u001b[39m         code = compiler(mod, cell_name, mode)\n\u001b[32m   3611\u001b[39m         asy = compare(code)\n\u001b[32m-> \u001b[39m\u001b[32m3612\u001b[39m     \u001b[38;5;28;01mif\u001b[39;00m \u001b[38;5;28;01mawait\u001b[39;00m \u001b[38;5;28mself\u001b[39m.run_code(code, result, async_=asy):\n\u001b[32m   3613\u001b[39m         \u001b[38;5;28;01mreturn\u001b[39;00m \u001b[38;5;28;01mTrue\u001b[39;00m\n\u001b[32m   3615\u001b[39m \u001b[38;5;66;03m# Flush softspace\u001b[39;00m\n",
      "    \u001b[31m[... skipping hidden 1 frame]\u001b[39m\n",
      "\u001b[36mCell\u001b[39m\u001b[36m \u001b[39m\u001b[32mIn[6]\u001b[39m\u001b[32m, line 9\u001b[39m\n\u001b[32m      6\u001b[39m     res = arg1+arg2\n\u001b[32m      7\u001b[39m     \u001b[38;5;28;01mreturn\u001b[39;00m res\n\u001b[32m----> \u001b[39m\u001b[32m9\u001b[39m result = \u001b[43madd\u001b[49m\u001b[43m(\u001b[49m\u001b[43marg1\u001b[49m\u001b[43m=\u001b[49m\u001b[32;43m1\u001b[39;49m\u001b[43m,\u001b[49m\u001b[43m \u001b[49m\u001b[43marg2\u001b[49m\u001b[43m=\u001b[49m\u001b[32;43m2\u001b[39;49m\u001b[43m)\u001b[49m\n\u001b[32m     10\u001b[39m workflow = construct(result, simplify_ids=\u001b[38;5;28;01mTrue\u001b[39;00m)\n\u001b[32m     11\u001b[39m cwl = render(workflow)\n",
      "\u001b[31mTaskException\u001b[39m: can only concatenate tuple (not \"dict\") to tuple",
      "Task add declared in <module> at C:\\Users\\esc\\AppData\\Local\\Temp\\ipykernel_203460\\2283186502.py:4\n@workflow()"
     ]
    }
   ],
   "source": [
    "from dewret.renderers.cwl import render\n",
    "from dewret.tasks import task, construct, workflow\n",
    "\n",
    "@workflow()\n",
    "def add(arg1: float, arg2: float) -> float:\n",
    "    res = arg1+arg2\n",
    "    return res\n",
    "\n",
    "result = add(arg1=1, arg2=2)\n",
    "workflow = construct(result, simplify_ids=True)\n",
    "cwl = render(workflow)\n",
    "cwl['__root__']"
   ]
  },
  {
   "cell_type": "code",
   "execution_count": 7,
   "id": "1c0697bb",
   "metadata": {},
   "outputs": [
    {
     "data": {
      "text/plain": [
       "{'__root__': {'cwlVersion': 1.2,\n",
       "  'class': 'Workflow',\n",
       "  'inputs': {'add-1-arg2': {'label': 'arg2', 'type': 'int', 'default': 2},\n",
       "   'add-1-arg1': {'label': 'arg1', 'type': 'int', 'default': 1}},\n",
       "  'outputs': {'out': {'label': 'out',\n",
       "    'type': 'float',\n",
       "    'outputSource': 'add-1/out'}},\n",
       "  'steps': {'add-1': {'run': 'add',\n",
       "    'in': {'arg2': {'source': 'add-1-arg2'}, 'arg1': {'source': 'add-1-arg1'}},\n",
       "    'out': ['out']}}},\n",
       " 'add-1': {'cwlVersion': 1.2,\n",
       "  'class': 'Workflow',\n",
       "  'inputs': {'arg2': {'label': 'arg2', 'type': 'int', 'default': 2},\n",
       "   'arg1': {'label': 'arg1', 'type': 'int', 'default': 1}},\n",
       "  'outputs': {'out': {'label': 'out',\n",
       "    'type': 'float',\n",
       "    'outputSource': 'sum-1-1/out'}},\n",
       "  'steps': {'sum-1-1': {'run': 'sum',\n",
       "    'in': {'arg1': {'source': 'arg1'}, 'arg2': {'source': 'arg2'}},\n",
       "    'out': ['out']}}}}"
      ]
     },
     "execution_count": 7,
     "metadata": {},
     "output_type": "execute_result"
    }
   ],
   "source": [
    "from dewret.renderers.cwl import render\n",
    "from dewret.tasks import task, construct, workflow\n",
    "\n",
    "\n",
    "@task()\n",
    "def sum(arg1: float, arg2: float) -> float:\n",
    "    res = arg1+arg2\n",
    "    return res\n",
    "\n",
    "@workflow()\n",
    "def add(arg1: float, arg2: float) -> float:\n",
    "    x, y = arg1, arg2\n",
    "    res = sum(arg1=x, arg2=y)\n",
    "    return res\n",
    "\n",
    "result = add(arg1=1, arg2=2)\n",
    "workflow = construct(result, simplify_ids=True)\n",
    "cwl = render(workflow)\n",
    "# cwl['__root__']\n",
    "cwl"
   ]
  },
  {
   "cell_type": "code",
   "execution_count": 8,
   "id": "34627229",
   "metadata": {},
   "outputs": [
    {
     "data": {
      "text/plain": [
       "{'__root__': {'cwlVersion': 1.2,\n",
       "  'class': 'Workflow',\n",
       "  'inputs': {},\n",
       "  'outputs': {'out': {'label': 'out',\n",
       "    'type': 'string',\n",
       "    'outputSource': 'create_greeting_in_all_caps-1/out'}},\n",
       "  'steps': {'create_greeting_in_all_caps-1': {'run': 'create_greeting_in_all_caps',\n",
       "    'in': {'prefix': {'default': 'Hello to '}, 'name': {'default': 'John'}},\n",
       "    'out': ['out']}}},\n",
       " 'create_greeting_in_all_caps-1': {'cwlVersion': 1.2,\n",
       "  'class': 'Workflow',\n",
       "  'inputs': {},\n",
       "  'outputs': {'out': {'label': 'out',\n",
       "    'type': 'string',\n",
       "    'outputSource': 'concat_strings-1-1/out'}},\n",
       "  'steps': {'concat_strings-1-1': {'run': 'concat_strings',\n",
       "    'in': {'str1': {'default': 'Hello to '}, 'str2': {'default': 'John'}},\n",
       "    'out': ['out']}}}}"
      ]
     },
     "execution_count": 8,
     "metadata": {},
     "output_type": "execute_result"
    }
   ],
   "source": [
    "from dewret.renderers.cwl import render\n",
    "from dewret.tasks import task, construct, workflow\n",
    "from dewret.annotations import AtRender\n",
    "\n",
    "@task()\n",
    "def concat_strings(str1: str, str2: str) -> str:\n",
    "    return str1 + str2\n",
    "\n",
    "@workflow()\n",
    "def create_greeting_in_all_caps(prefix: AtRender[str], name: AtRender[str]) -> str:\n",
    "    prefix_cap = prefix.capitalize()\n",
    "    name_cap = name.capitalize()\n",
    "    return concat_strings(str1=prefix_cap, str2=name_cap)\n",
    "\n",
    "result = create_greeting_in_all_caps(prefix=\"Hello to \", name=\"John\")\n",
    "workflow = construct(result, simplify_ids=True)\n",
    "cwl = render(workflow)\n",
    "cwl"
   ]
  },
  {
   "cell_type": "code",
   "execution_count": 1,
   "id": "78651e0c",
   "metadata": {},
   "outputs": [
    {
     "ename": "ModuleNotFoundError",
     "evalue": "No module named 'dewret'",
     "output_type": "error",
     "traceback": [
      "\u001b[31m---------------------------------------------------------------------------\u001b[39m",
      "\u001b[31mModuleNotFoundError\u001b[39m                       Traceback (most recent call last)",
      "\u001b[36mCell\u001b[39m\u001b[36m \u001b[39m\u001b[32mIn[1]\u001b[39m\u001b[32m, line 1\u001b[39m\n\u001b[32m----> \u001b[39m\u001b[32m1\u001b[39m \u001b[38;5;28;01mfrom\u001b[39;00m\u001b[38;5;250m \u001b[39m\u001b[34;01mdewret\u001b[39;00m\u001b[34;01m.\u001b[39;00m\u001b[34;01mrenderers\u001b[39;00m\u001b[34;01m.\u001b[39;00m\u001b[34;01mcwl\u001b[39;00m\u001b[38;5;250m \u001b[39m\u001b[38;5;28;01mimport\u001b[39;00m render\n\u001b[32m      2\u001b[39m \u001b[38;5;28;01mfrom\u001b[39;00m\u001b[38;5;250m \u001b[39m\u001b[34;01mdewret\u001b[39;00m\u001b[34;01m.\u001b[39;00m\u001b[34;01mtasks\u001b[39;00m\u001b[38;5;250m \u001b[39m\u001b[38;5;28;01mimport\u001b[39;00m task, construct, workflow\n\u001b[32m      4\u001b[39m \u001b[38;5;129m@task\u001b[39m()\n\u001b[32m      5\u001b[39m \u001b[38;5;28;01mdef\u001b[39;00m\u001b[38;5;250m \u001b[39m\u001b[34mconcat_strings\u001b[39m(str1: \u001b[38;5;28mstr\u001b[39m, str2: \u001b[38;5;28mstr\u001b[39m) -> \u001b[38;5;28mstr\u001b[39m:\n",
      "\u001b[31mModuleNotFoundError\u001b[39m: No module named 'dewret'"
     ]
    }
   ],
   "source": [
    "from dewret.renderers.cwl import render\n",
    "from dewret.tasks import task, construct, workflow\n",
    "\n",
    "@task()\n",
    "def concat_strings(str1: str, str2: str) -> str:\n",
    "    return str1 + str2\n",
    "\n",
    "@task()\n",
    "def cap(arg: str) -> str:\n",
    "    return arg.capitalize()\n",
    "\n",
    "@workflow()\n",
    "def create_greeting_in_all_caps(prefix: str, name: str) -> str:\n",
    "    prefix_cap = cap(arg=prefix)\n",
    "    name_cap = cap(arg=name)\n",
    "    return concat_strings(str1=prefix_cap, str2=name_cap)\n",
    "\n",
    "\n",
    "result = create_greeting_in_all_caps(prefix=\"Hello to \", name=\"John\")\n",
    "\n",
    "workflow = construct(result, simplify_ids=True)\n",
    "cwl = render(workflow)\n",
    "cwl"
   ]
  },
  {
   "cell_type": "code",
   "execution_count": 3,
   "id": "f33e5de5",
   "metadata": {},
   "outputs": [
    {
     "data": {
      "text/plain": [
       "{'__root__': {'cwlVersion': 1.2,\n",
       "  'class': 'Workflow',\n",
       "  'inputs': {},\n",
       "  'outputs': {'out': {'label': 'out',\n",
       "    'type': 'int',\n",
       "    'outputSource': 'foo-1/out'}},\n",
       "  'steps': {'foo-1': {'run': 'foo', 'in': {}, 'out': ['out']}}},\n",
       " 'foo-1': {'cwlVersion': 1.2,\n",
       "  'class': 'Workflow',\n",
       "  'inputs': {},\n",
       "  'outputs': {'out': {'label': 'out',\n",
       "    'type': 'int',\n",
       "    'outputSource': 'f-1-1/out'}},\n",
       "  'steps': {'f-1-1': {'run': 'f',\n",
       "    'in': {'a': {'default': 1}, 'b': {'default': 2}, 'c': {'default': 3}},\n",
       "    'out': ['out']}}}}"
      ]
     },
     "execution_count": 3,
     "metadata": {},
     "output_type": "execute_result"
    }
   ],
   "source": [
    "from dewret.renderers.cwl import render\n",
    "from dewret.tasks import task, construct, workflow\n",
    "\n",
    "@task()\n",
    "def f(a: int, b: int,c: int) -> int:\n",
    "    return a\n",
    "\n",
    "@workflow()\n",
    "def foo() -> int:\n",
    "    return f(**{'a':1, 'b': 2, 'c': 3})\n",
    "\n",
    "result = foo()\n",
    "\n",
    "workflow = construct(result, simplify_ids=True)\n",
    "cwl = render(workflow)\n",
    "cwl"
   ]
  },
  {
   "cell_type": "code",
   "execution_count": 2,
   "id": "ec519b4c",
   "metadata": {},
   "outputs": [
    {
     "data": {
      "text/plain": [
       "{'__root__': {'cwlVersion': 1.2,\n",
       "  'class': 'Workflow',\n",
       "  'inputs': {},\n",
       "  'outputs': {'out': {'label': 'out',\n",
       "    'type': 'int',\n",
       "    'outputSource': 'foo-1/out'}},\n",
       "  'steps': {'foo-1': {'run': 'foo', 'in': {}, 'out': ['out']}}},\n",
       " 'foo-1': {'cwlVersion': 1.2,\n",
       "  'class': 'Workflow',\n",
       "  'inputs': {},\n",
       "  'outputs': {'out': {'label': 'out',\n",
       "    'type': 'int',\n",
       "    'outputSource': 'f-1-1/out'}},\n",
       "  'steps': {'f-1-1': {'run': 'f',\n",
       "    'in': {'a': {'default': 1}, 'b': {'default': 2}, 'c': {'default': 3}},\n",
       "    'out': ['out']}}}}"
      ]
     },
     "execution_count": 2,
     "metadata": {},
     "output_type": "execute_result"
    }
   ],
   "source": [
    "from dewret.renderers.cwl import render\n",
    "from dewret.tasks import task, construct, workflow\n",
    "\n",
    "@task()\n",
    "def f(a: int, b: int,c: int) -> int:\n",
    "    return a\n",
    "\n",
    "@workflow()\n",
    "def foo() -> int:\n",
    "    return f(**{'a':1, 'b': 2, 'c': 3})\n",
    "\n",
    "result = foo()\n",
    "\n",
    "workflow = construct(result, simplify_ids=True)\n",
    "cwl = render(workflow)\n",
    "cwl"
   ]
  },
  {
   "cell_type": "code",
   "execution_count": null,
   "id": "b09c5408",
   "metadata": {},
   "outputs": [
    {
     "ename": "TaskException",
     "evalue": "Attempted to build a workflow from a return-value/result/expression with no references.",
     "output_type": "error",
     "traceback": [
      "\u001b[31m---------------------------------------------------------------------------\u001b[39m\n",
      "\u001b[31mRuntimeError\u001b[39m                              Traceback (most recent call last)\n",
      "\u001b[36mFile \u001b[39m\u001b[32m~\\GithubRepos\\Dewret\\unpack\\src\\dewret\\tasks.py:694\u001b[39m, in \u001b[36mtask.<locals>._task.<locals>._fn\u001b[39m\u001b[34m(__workflow__, __traceback__, *args, **kwargs)\u001b[39m\n",
      "\u001b[32m    691\u001b[39m     output = analyser.with_new_globals(nested_globals)(\n",
      "\u001b[32m    692\u001b[39m         **nested_kwargs\n",
      "\u001b[32m    693\u001b[39m     )\n",
      "\u001b[32m--> \u001b[39m\u001b[32m694\u001b[39m     nested_workflow = \u001b[43m_manager\u001b[49m\u001b[43m(\u001b[49m\n",
      "\u001b[32m    695\u001b[39m \u001b[43m        \u001b[49m\u001b[43moutput\u001b[49m\u001b[43m,\u001b[49m\u001b[43m \u001b[49m\u001b[43m__workflow__\u001b[49m\u001b[43m=\u001b[49m\u001b[43mnested_workflow\u001b[49m\n",
      "\u001b[32m    696\u001b[39m \u001b[43m    \u001b[49m\u001b[43m)\u001b[49m\n",
      "\u001b[32m    697\u001b[39m step_reference = workflow.add_nested_step(\n",
      "\u001b[32m    698\u001b[39m     fn.\u001b[34m__name__\u001b[39m,\n",
      "\u001b[32m    699\u001b[39m     nested_workflow,\n",
      "\u001b[32m   (...)\u001b[39m\u001b[32m    702\u001b[39m     positional_args,\n",
      "\u001b[32m    703\u001b[39m )\n",
      "\n",
      "\u001b[36mFile \u001b[39m\u001b[32m~\\GithubRepos\\Dewret\\unpack\\src\\dewret\\tasks.py:236\u001b[39m, in \u001b[36mTaskManager.__call__\u001b[39m\u001b[34m(self, task, __workflow__, **kwargs)\u001b[39m\n",
      "\u001b[32m    235\u001b[39m     simplify_ids = \u001b[38;5;28mbool\u001b[39m(get_configuration(\u001b[33m\"\u001b[39m\u001b[33msimplify_ids\u001b[39m\u001b[33m\"\u001b[39m))\n",
      "\u001b[32m--> \u001b[39m\u001b[32m236\u001b[39m \u001b[38;5;28;01mreturn\u001b[39;00m \u001b[43mWorkflow\u001b[49m\u001b[43m.\u001b[49m\u001b[43mfrom_result\u001b[49m\u001b[43m(\u001b[49m\u001b[43mresult\u001b[49m\u001b[43m,\u001b[49m\u001b[43m \u001b[49m\u001b[43msimplify_ids\u001b[49m\u001b[43m=\u001b[49m\u001b[43msimplify_ids\u001b[49m\u001b[43m)\u001b[49m\n",
      "\n",
      "\u001b[36mFile \u001b[39m\u001b[32m~\\GithubRepos\\Dewret\\unpack\\src\\dewret\\workflow.py:772\u001b[39m, in \u001b[36mWorkflow.from_result\u001b[39m\u001b[34m(result, simplify_ids, nested)\u001b[39m\n",
      "\u001b[32m    771\u001b[39m \u001b[38;5;28;01mif\u001b[39;00m \u001b[38;5;129;01mnot\u001b[39;00m _refs:\n",
      "\u001b[32m--> \u001b[39m\u001b[32m772\u001b[39m     \u001b[38;5;28;01mraise\u001b[39;00m \u001b[38;5;167;01mRuntimeError\u001b[39;00m(\n",
      "\u001b[32m    773\u001b[39m         \u001b[33m\"\u001b[39m\u001b[33mAttempted to build a workflow from a return-value/result/expression with no references.\u001b[39m\u001b[33m\"\u001b[39m\n",
      "\u001b[32m    774\u001b[39m     )\n",
      "\u001b[32m    775\u001b[39m refs = \u001b[38;5;28mlist\u001b[39m(_refs)\n",
      "\n",
      "\u001b[31mRuntimeError\u001b[39m: Attempted to build a workflow from a return-value/result/expression with no references.\n",
      "\n",
      "The above exception was the direct cause of the following exception:\n",
      "\n",
      "\u001b[31mTaskException\u001b[39m                             Traceback (most recent call last)\n",
      "\u001b[36mCell\u001b[39m\u001b[36m \u001b[39m\u001b[32mIn[2]\u001b[39m\u001b[32m, line 16\u001b[39m\n",
      "\u001b[32m     10\u001b[39m \u001b[38;5;129m@workflow\u001b[39m()\n",
      "\u001b[32m     11\u001b[39m \u001b[38;5;28;01mdef\u001b[39;00m\u001b[38;5;250m \u001b[39m\u001b[34mfoo\u001b[39m() -> \u001b[38;5;28;01mNone\u001b[39;00m:\n",
      "\u001b[32m     12\u001b[39m     f(**{\u001b[33m'\u001b[39m\u001b[33ma\u001b[39m\u001b[33m'\u001b[39m:\u001b[32m1\u001b[39m, \u001b[33m'\u001b[39m\u001b[33mb\u001b[39m\u001b[33m'\u001b[39m: \u001b[32m2\u001b[39m, \u001b[33m'\u001b[39m\u001b[33mc\u001b[39m\u001b[33m'\u001b[39m: \u001b[32m3\u001b[39m})\n",
      "\u001b[32m---> \u001b[39m\u001b[32m16\u001b[39m result = \u001b[43mfoo\u001b[49m\u001b[43m(\u001b[49m\u001b[43m)\u001b[49m\n",
      "\u001b[32m     18\u001b[39m workflow = construct(result, simplify_ids=\u001b[38;5;28;01mTrue\u001b[39;00m)\n",
      "\u001b[32m     19\u001b[39m cwl = render(workflow)\n",
      "\n",
      "\u001b[36mFile \u001b[39m\u001b[32m~\\GithubRepos\\Dewret\\unpack\\src\\dewret\\workflow.py:106\u001b[39m, in \u001b[36mLazyEvaluation.__call__\u001b[39m\u001b[34m(self, *args, **kwargs)\u001b[39m\n",
      "\u001b[32m     97\u001b[39m \u001b[38;5;250m\u001b[39m\u001b[33;03m\"\"\"Wrapper around a lazy execution.\u001b[39;00m\n",
      "\u001b[32m     98\u001b[39m \n",
      "\u001b[32m     99\u001b[39m \u001b[33;03mCaptures a traceback, for debugging if this does not work.\u001b[39;00m\n",
      "\u001b[32m   (...)\u001b[39m\u001b[32m    103\u001b[39m \u001b[33;03mis attempted.\u001b[39;00m\n",
      "\u001b[32m    104\u001b[39m \u001b[33;03m\"\"\"\u001b[39;00m\n",
      "\u001b[32m    105\u001b[39m tb = make_traceback()\n",
      "\u001b[32m--> \u001b[39m\u001b[32m106\u001b[39m result = \u001b[38;5;28;43mself\u001b[39;49m\u001b[43m.\u001b[49m\u001b[43m_fn\u001b[49m\u001b[43m(\u001b[49m\u001b[43m*\u001b[49m\u001b[43margs\u001b[49m\u001b[43m,\u001b[49m\u001b[43m \u001b[49m\u001b[43m*\u001b[49m\u001b[43m*\u001b[49m\u001b[43mkwargs\u001b[49m\u001b[43m,\u001b[49m\u001b[43m \u001b[49m\u001b[43m__traceback__\u001b[49m\u001b[43m=\u001b[49m\u001b[43mtb\u001b[49m\u001b[43m)\u001b[49m  \u001b[38;5;66;03m# type: ignore[arg-type]\u001b[39;00m\n",
      "\u001b[32m    107\u001b[39m \u001b[38;5;28;01mreturn\u001b[39;00m result\n",
      "\n",
      "\u001b[36mFile \u001b[39m\u001b[32m~\\GithubRepos\\Dewret\\unpack\\src\\dewret\\tasks.py:723\u001b[39m, in \u001b[36mtask.<locals>._task.<locals>._fn\u001b[39m\u001b[34m(__workflow__, __traceback__, *args, **kwargs)\u001b[39m\n",
      "\u001b[32m    721\u001b[39m     \u001b[38;5;28;01mraise\u001b[39;00m exc\n",
      "\u001b[32m    722\u001b[39m \u001b[38;5;28;01mexcept\u001b[39;00m \u001b[38;5;167;01mException\u001b[39;00m \u001b[38;5;28;01mas\u001b[39;00m exc:\n",
      "\u001b[32m--> \u001b[39m\u001b[32m723\u001b[39m     \u001b[38;5;28;01mraise\u001b[39;00m TaskException(\n",
      "\u001b[32m    724\u001b[39m         fn,\n",
      "\u001b[32m    725\u001b[39m         declaration_tb,\n",
      "\u001b[32m    726\u001b[39m         __traceback__,\n",
      "\u001b[32m    727\u001b[39m         exc.args[\u001b[32m0\u001b[39m] \u001b[38;5;28;01mif\u001b[39;00m exc.args \u001b[38;5;28;01melse\u001b[39;00m \u001b[33mf\u001b[39m\u001b[33m\"\u001b[39m\u001b[33mCould not call task \u001b[39m\u001b[38;5;132;01m{\u001b[39;00mfn.\u001b[34m__name__\u001b[39m\u001b[38;5;132;01m}\u001b[39;00m\u001b[33m\"\u001b[39m,\n",
      "\u001b[32m    728\u001b[39m     ) \u001b[38;5;28;01mfrom\u001b[39;00m\u001b[38;5;250m \u001b[39m\u001b[34;01mexc\u001b[39;00m\n",
      "\u001b[32m    729\u001b[39m \u001b[38;5;28;01mfinally\u001b[39;00m:\n",
      "\u001b[32m    730\u001b[39m     \u001b[38;5;28;01mif\u001b[39;00m configuration:\n",
      "\n",
      "\u001b[36mFile \u001b[39m\u001b[32m<frozen runpy>:198\u001b[39m, in \u001b[36m_run_module_as_main\u001b[39m\u001b[34m(mod_name, alter_argv)\u001b[39m\n",
      "\n",
      "\u001b[36mFile \u001b[39m\u001b[32m<frozen runpy>:88\u001b[39m, in \u001b[36m_run_code\u001b[39m\u001b[34m(code, run_globals, init_globals, mod_name, mod_spec, pkg_name, script_name)\u001b[39m\n",
      "\n",
      "\u001b[36mFile \u001b[39m\u001b[32mc:\\Users\\esc\\.conda\\envs\\d-unpack\\Lib\\site-packages\\ipykernel_launcher.py:18\u001b[39m\n",
      "\u001b[32m     14\u001b[39m     \u001b[38;5;28;01mdel\u001b[39;00m sys.path[\u001b[32m0\u001b[39m]\n",
      "\u001b[32m     16\u001b[39m \u001b[38;5;28;01mfrom\u001b[39;00m\u001b[38;5;250m \u001b[39m\u001b[34;01mipykernel\u001b[39;00m\u001b[38;5;250m \u001b[39m\u001b[38;5;28;01mimport\u001b[39;00m kernelapp \u001b[38;5;28;01mas\u001b[39;00m app\n",
      "\u001b[32m---> \u001b[39m\u001b[32m18\u001b[39m \u001b[43mapp\u001b[49m\u001b[43m.\u001b[49m\u001b[43mlaunch_new_instance\u001b[49m\u001b[43m(\u001b[49m\u001b[43m)\u001b[49m\n",
      "\n",
      "\u001b[36mFile \u001b[39m\u001b[32mc:\\Users\\esc\\.conda\\envs\\d-unpack\\Lib\\site-packages\\traitlets\\config\\application.py:1075\u001b[39m, in \u001b[36mApplication.launch_instance\u001b[39m\u001b[34m(cls, argv, **kwargs)\u001b[39m\n",
      "\u001b[32m   1073\u001b[39m app = \u001b[38;5;28mcls\u001b[39m.instance(**kwargs)\n",
      "\u001b[32m   1074\u001b[39m app.initialize(argv)\n",
      "\u001b[32m-> \u001b[39m\u001b[32m1075\u001b[39m \u001b[43mapp\u001b[49m\u001b[43m.\u001b[49m\u001b[43mstart\u001b[49m\u001b[43m(\u001b[49m\u001b[43m)\u001b[49m\n",
      "\n",
      "\u001b[36mFile \u001b[39m\u001b[32mc:\\Users\\esc\\.conda\\envs\\d-unpack\\Lib\\site-packages\\ipykernel\\kernelapp.py:739\u001b[39m, in \u001b[36mIPKernelApp.start\u001b[39m\u001b[34m(self)\u001b[39m\n",
      "\u001b[32m    737\u001b[39m \u001b[38;5;28;01melse\u001b[39;00m:\n",
      "\u001b[32m    738\u001b[39m     \u001b[38;5;28;01mtry\u001b[39;00m:\n",
      "\u001b[32m--> \u001b[39m\u001b[32m739\u001b[39m         \u001b[38;5;28;43mself\u001b[39;49m\u001b[43m.\u001b[49m\u001b[43mio_loop\u001b[49m\u001b[43m.\u001b[49m\u001b[43mstart\u001b[49m\u001b[43m(\u001b[49m\u001b[43m)\u001b[49m\n",
      "\u001b[32m    740\u001b[39m     \u001b[38;5;28;01mexcept\u001b[39;00m \u001b[38;5;167;01mKeyboardInterrupt\u001b[39;00m:\n",
      "\u001b[32m    741\u001b[39m         \u001b[38;5;28;01mpass\u001b[39;00m\n",
      "\n",
      "\u001b[36mFile \u001b[39m\u001b[32mc:\\Users\\esc\\.conda\\envs\\d-unpack\\Lib\\site-packages\\tornado\\platform\\asyncio.py:195\u001b[39m, in \u001b[36mBaseAsyncIOLoop.start\u001b[39m\u001b[34m(self)\u001b[39m\n",
      "\u001b[32m    194\u001b[39m \u001b[38;5;28;01mdef\u001b[39;00m\u001b[38;5;250m \u001b[39m\u001b[34mstart\u001b[39m(\u001b[38;5;28mself\u001b[39m) -> \u001b[38;5;28;01mNone\u001b[39;00m:\n",
      "\u001b[32m--> \u001b[39m\u001b[32m195\u001b[39m     \u001b[38;5;28;43mself\u001b[39;49m\u001b[43m.\u001b[49m\u001b[43masyncio_loop\u001b[49m\u001b[43m.\u001b[49m\u001b[43mrun_forever\u001b[49m\u001b[43m(\u001b[49m\u001b[43m)\u001b[49m\n",
      "\n",
      "\u001b[36mFile \u001b[39m\u001b[32mc:\\Users\\esc\\.conda\\envs\\d-unpack\\Lib\\asyncio\\base_events.py:608\u001b[39m, in \u001b[36mBaseEventLoop.run_forever\u001b[39m\u001b[34m(self)\u001b[39m\n",
      "\u001b[32m    606\u001b[39m events._set_running_loop(\u001b[38;5;28mself\u001b[39m)\n",
      "\u001b[32m    607\u001b[39m \u001b[38;5;28;01mwhile\u001b[39;00m \u001b[38;5;28;01mTrue\u001b[39;00m:\n",
      "\u001b[32m--> \u001b[39m\u001b[32m608\u001b[39m     \u001b[38;5;28;43mself\u001b[39;49m\u001b[43m.\u001b[49m\u001b[43m_run_once\u001b[49m\u001b[43m(\u001b[49m\u001b[43m)\u001b[49m\n",
      "\u001b[32m    609\u001b[39m     \u001b[38;5;28;01mif\u001b[39;00m \u001b[38;5;28mself\u001b[39m._stopping:\n",
      "\u001b[32m    610\u001b[39m         \u001b[38;5;28;01mbreak\u001b[39;00m\n",
      "\n",
      "\u001b[36mFile \u001b[39m\u001b[32mc:\\Users\\esc\\.conda\\envs\\d-unpack\\Lib\\asyncio\\base_events.py:1936\u001b[39m, in \u001b[36mBaseEventLoop._run_once\u001b[39m\u001b[34m(self)\u001b[39m\n",
      "\u001b[32m   1934\u001b[39m             \u001b[38;5;28mself\u001b[39m._current_handle = \u001b[38;5;28;01mNone\u001b[39;00m\n",
      "\u001b[32m   1935\u001b[39m     \u001b[38;5;28;01melse\u001b[39;00m:\n",
      "\u001b[32m-> \u001b[39m\u001b[32m1936\u001b[39m         \u001b[43mhandle\u001b[49m\u001b[43m.\u001b[49m\u001b[43m_run\u001b[49m\u001b[43m(\u001b[49m\u001b[43m)\u001b[49m\n",
      "\u001b[32m   1937\u001b[39m handle = \u001b[38;5;28;01mNone\u001b[39;00m\n",
      "\n",
      "\u001b[36mFile \u001b[39m\u001b[32mc:\\Users\\esc\\.conda\\envs\\d-unpack\\Lib\\asyncio\\events.py:84\u001b[39m, in \u001b[36mHandle._run\u001b[39m\u001b[34m(self)\u001b[39m\n",
      "\u001b[32m     82\u001b[39m \u001b[38;5;28;01mdef\u001b[39;00m\u001b[38;5;250m \u001b[39m\u001b[34m_run\u001b[39m(\u001b[38;5;28mself\u001b[39m):\n",
      "\u001b[32m     83\u001b[39m     \u001b[38;5;28;01mtry\u001b[39;00m:\n",
      "\u001b[32m---> \u001b[39m\u001b[32m84\u001b[39m         \u001b[38;5;28;43mself\u001b[39;49m\u001b[43m.\u001b[49m\u001b[43m_context\u001b[49m\u001b[43m.\u001b[49m\u001b[43mrun\u001b[49m\u001b[43m(\u001b[49m\u001b[38;5;28;43mself\u001b[39;49m\u001b[43m.\u001b[49m\u001b[43m_callback\u001b[49m\u001b[43m,\u001b[49m\u001b[43m \u001b[49m\u001b[43m*\u001b[49m\u001b[38;5;28;43mself\u001b[39;49m\u001b[43m.\u001b[49m\u001b[43m_args\u001b[49m\u001b[43m)\u001b[49m\n",
      "\u001b[32m     85\u001b[39m     \u001b[38;5;28;01mexcept\u001b[39;00m (\u001b[38;5;167;01mSystemExit\u001b[39;00m, \u001b[38;5;167;01mKeyboardInterrupt\u001b[39;00m):\n",
      "\u001b[32m     86\u001b[39m         \u001b[38;5;28;01mraise\u001b[39;00m\n",
      "\n",
      "\u001b[36mFile \u001b[39m\u001b[32mc:\\Users\\esc\\.conda\\envs\\d-unpack\\Lib\\site-packages\\ipykernel\\kernelbase.py:545\u001b[39m, in \u001b[36mKernel.dispatch_queue\u001b[39m\u001b[34m(self)\u001b[39m\n",
      "\u001b[32m    543\u001b[39m \u001b[38;5;28;01mwhile\u001b[39;00m \u001b[38;5;28;01mTrue\u001b[39;00m:\n",
      "\u001b[32m    544\u001b[39m     \u001b[38;5;28;01mtry\u001b[39;00m:\n",
      "\u001b[32m--> \u001b[39m\u001b[32m545\u001b[39m         \u001b[38;5;28;01mawait\u001b[39;00m \u001b[38;5;28mself\u001b[39m.process_one()\n",
      "\u001b[32m    546\u001b[39m     \u001b[38;5;28;01mexcept\u001b[39;00m \u001b[38;5;167;01mException\u001b[39;00m:\n",
      "\u001b[32m    547\u001b[39m         \u001b[38;5;28mself\u001b[39m.log.exception(\u001b[33m\"\u001b[39m\u001b[33mError in message handler\u001b[39m\u001b[33m\"\u001b[39m)\n",
      "\n",
      "\u001b[36mFile \u001b[39m\u001b[32mc:\\Users\\esc\\.conda\\envs\\d-unpack\\Lib\\site-packages\\ipykernel\\kernelbase.py:534\u001b[39m, in \u001b[36mKernel.process_one\u001b[39m\u001b[34m(self, wait)\u001b[39m\n",
      "\u001b[32m    532\u001b[39m     \u001b[38;5;28;01mexcept\u001b[39;00m (asyncio.QueueEmpty, QueueEmpty):\n",
      "\u001b[32m    533\u001b[39m         \u001b[38;5;28;01mreturn\u001b[39;00m\n",
      "\u001b[32m--> \u001b[39m\u001b[32m534\u001b[39m \u001b[38;5;28;01mawait\u001b[39;00m dispatch(*args)\n",
      "\n",
      "\u001b[36mFile \u001b[39m\u001b[32mc:\\Users\\esc\\.conda\\envs\\d-unpack\\Lib\\site-packages\\ipykernel\\kernelbase.py:437\u001b[39m, in \u001b[36mKernel.dispatch_shell\u001b[39m\u001b[34m(self, msg)\u001b[39m\n",
      "\u001b[32m    435\u001b[39m     result = handler(\u001b[38;5;28mself\u001b[39m.shell_stream, idents, msg)\n",
      "\u001b[32m    436\u001b[39m     \u001b[38;5;28;01mif\u001b[39;00m inspect.isawaitable(result):\n",
      "\u001b[32m--> \u001b[39m\u001b[32m437\u001b[39m         \u001b[38;5;28;01mawait\u001b[39;00m result\n",
      "\u001b[32m    438\u001b[39m \u001b[38;5;28;01mexcept\u001b[39;00m \u001b[38;5;167;01mException\u001b[39;00m:\n",
      "\u001b[32m    439\u001b[39m     \u001b[38;5;28mself\u001b[39m.log.error(\u001b[33m\"\u001b[39m\u001b[33mException in message handler:\u001b[39m\u001b[33m\"\u001b[39m, exc_info=\u001b[38;5;28;01mTrue\u001b[39;00m)  \u001b[38;5;66;03m# noqa: G201\u001b[39;00m\n",
      "\n",
      "\u001b[36mFile \u001b[39m\u001b[32mc:\\Users\\esc\\.conda\\envs\\d-unpack\\Lib\\site-packages\\ipykernel\\ipkernel.py:362\u001b[39m, in \u001b[36mIPythonKernel.execute_request\u001b[39m\u001b[34m(self, stream, ident, parent)\u001b[39m\n",
      "\u001b[32m    360\u001b[39m parent_header = extract_header(parent)\n",
      "\u001b[32m    361\u001b[39m \u001b[38;5;28mself\u001b[39m._associate_new_top_level_threads_with(parent_header)\n",
      "\u001b[32m--> \u001b[39m\u001b[32m362\u001b[39m \u001b[38;5;28;01mawait\u001b[39;00m \u001b[38;5;28msuper\u001b[39m().execute_request(stream, ident, parent)\n",
      "\n",
      "\u001b[36mFile \u001b[39m\u001b[32mc:\\Users\\esc\\.conda\\envs\\d-unpack\\Lib\\site-packages\\ipykernel\\kernelbase.py:778\u001b[39m, in \u001b[36mKernel.execute_request\u001b[39m\u001b[34m(self, stream, ident, parent)\u001b[39m\n",
      "\u001b[32m    775\u001b[39m reply_content = \u001b[38;5;28mself\u001b[39m.do_execute(**do_execute_args)\n",
      "\u001b[32m    777\u001b[39m \u001b[38;5;28;01mif\u001b[39;00m inspect.isawaitable(reply_content):\n",
      "\u001b[32m--> \u001b[39m\u001b[32m778\u001b[39m     reply_content = \u001b[38;5;28;01mawait\u001b[39;00m reply_content\n",
      "\u001b[32m    780\u001b[39m \u001b[38;5;66;03m# Flush output before sending the reply.\u001b[39;00m\n",
      "\u001b[32m    781\u001b[39m sys.stdout.flush()\n",
      "\n",
      "\u001b[36mFile \u001b[39m\u001b[32mc:\\Users\\esc\\.conda\\envs\\d-unpack\\Lib\\site-packages\\ipykernel\\ipkernel.py:449\u001b[39m, in \u001b[36mIPythonKernel.do_execute\u001b[39m\u001b[34m(self, code, silent, store_history, user_expressions, allow_stdin, cell_meta, cell_id)\u001b[39m\n",
      "\u001b[32m    444\u001b[39m \u001b[38;5;28;01melse\u001b[39;00m:\n",
      "\u001b[32m    445\u001b[39m     \u001b[38;5;66;03m# runner isn't already running,\u001b[39;00m\n",
      "\u001b[32m    446\u001b[39m     \u001b[38;5;66;03m# make synchronous call,\u001b[39;00m\n",
      "\u001b[32m    447\u001b[39m     \u001b[38;5;66;03m# letting shell dispatch to loop runners\u001b[39;00m\n",
      "\u001b[32m    448\u001b[39m     \u001b[38;5;28;01mif\u001b[39;00m accepts_params[\u001b[33m\"\u001b[39m\u001b[33mcell_id\u001b[39m\u001b[33m\"\u001b[39m]:\n",
      "\u001b[32m--> \u001b[39m\u001b[32m449\u001b[39m         res = \u001b[43mshell\u001b[49m\u001b[43m.\u001b[49m\u001b[43mrun_cell\u001b[49m\u001b[43m(\u001b[49m\n",
      "\u001b[32m    450\u001b[39m \u001b[43m            \u001b[49m\u001b[43mcode\u001b[49m\u001b[43m,\u001b[49m\n",
      "\u001b[32m    451\u001b[39m \u001b[43m            \u001b[49m\u001b[43mstore_history\u001b[49m\u001b[43m=\u001b[49m\u001b[43mstore_history\u001b[49m\u001b[43m,\u001b[49m\n",
      "\u001b[32m    452\u001b[39m \u001b[43m            \u001b[49m\u001b[43msilent\u001b[49m\u001b[43m=\u001b[49m\u001b[43msilent\u001b[49m\u001b[43m,\u001b[49m\n",
      "\u001b[32m    453\u001b[39m \u001b[43m            \u001b[49m\u001b[43mcell_id\u001b[49m\u001b[43m=\u001b[49m\u001b[43mcell_id\u001b[49m\u001b[43m,\u001b[49m\n",
      "\u001b[32m    454\u001b[39m \u001b[43m        \u001b[49m\u001b[43m)\u001b[49m\n",
      "\u001b[32m    455\u001b[39m     \u001b[38;5;28;01melse\u001b[39;00m:\n",
      "\u001b[32m    456\u001b[39m         res = shell.run_cell(code, store_history=store_history, silent=silent)\n",
      "\n",
      "\u001b[36mFile \u001b[39m\u001b[32mc:\\Users\\esc\\.conda\\envs\\d-unpack\\Lib\\site-packages\\ipykernel\\zmqshell.py:549\u001b[39m, in \u001b[36mZMQInteractiveShell.run_cell\u001b[39m\u001b[34m(self, *args, **kwargs)\u001b[39m\n",
      "\u001b[32m    547\u001b[39m \u001b[38;5;250m\u001b[39m\u001b[33;03m\"\"\"Run a cell.\"\"\"\u001b[39;00m\n",
      "\u001b[32m    548\u001b[39m \u001b[38;5;28mself\u001b[39m._last_traceback = \u001b[38;5;28;01mNone\u001b[39;00m\n",
      "\u001b[32m--> \u001b[39m\u001b[32m549\u001b[39m \u001b[38;5;28;01mreturn\u001b[39;00m \u001b[38;5;28;43msuper\u001b[39;49m\u001b[43m(\u001b[49m\u001b[43m)\u001b[49m\u001b[43m.\u001b[49m\u001b[43mrun_cell\u001b[49m\u001b[43m(\u001b[49m\u001b[43m*\u001b[49m\u001b[43margs\u001b[49m\u001b[43m,\u001b[49m\u001b[43m \u001b[49m\u001b[43m*\u001b[49m\u001b[43m*\u001b[49m\u001b[43mkwargs\u001b[49m\u001b[43m)\u001b[49m\n",
      "\n",
      "\u001b[36mFile \u001b[39m\u001b[32mc:\\Users\\esc\\.conda\\envs\\d-unpack\\Lib\\site-packages\\IPython\\core\\interactiveshell.py:3100\u001b[39m, in \u001b[36mInteractiveShell.run_cell\u001b[39m\u001b[34m(self, raw_cell, store_history, silent, shell_futures, cell_id)\u001b[39m\n",
      "\u001b[32m   3098\u001b[39m \u001b[38;5;28;01mwith\u001b[39;00m \u001b[38;5;28mself\u001b[39m._tee(channel=\u001b[33m\"\u001b[39m\u001b[33mstdout\u001b[39m\u001b[33m\"\u001b[39m), \u001b[38;5;28mself\u001b[39m._tee(channel=\u001b[33m\"\u001b[39m\u001b[33mstderr\u001b[39m\u001b[33m\"\u001b[39m):\n",
      "\u001b[32m   3099\u001b[39m     \u001b[38;5;28;01mtry\u001b[39;00m:\n",
      "\u001b[32m-> \u001b[39m\u001b[32m3100\u001b[39m         result = \u001b[38;5;28;43mself\u001b[39;49m\u001b[43m.\u001b[49m\u001b[43m_run_cell\u001b[49m\u001b[43m(\u001b[49m\n",
      "\u001b[32m   3101\u001b[39m \u001b[43m            \u001b[49m\u001b[43mraw_cell\u001b[49m\u001b[43m,\u001b[49m\u001b[43m \u001b[49m\u001b[43mstore_history\u001b[49m\u001b[43m,\u001b[49m\u001b[43m \u001b[49m\u001b[43msilent\u001b[49m\u001b[43m,\u001b[49m\u001b[43m \u001b[49m\u001b[43mshell_futures\u001b[49m\u001b[43m,\u001b[49m\u001b[43m \u001b[49m\u001b[43mcell_id\u001b[49m\n",
      "\u001b[32m   3102\u001b[39m \u001b[43m        \u001b[49m\u001b[43m)\u001b[49m\n",
      "\u001b[32m   3103\u001b[39m     \u001b[38;5;28;01mfinally\u001b[39;00m:\n",
      "\u001b[32m   3104\u001b[39m         \u001b[38;5;28mself\u001b[39m.events.trigger(\u001b[33m\"\u001b[39m\u001b[33mpost_execute\u001b[39m\u001b[33m\"\u001b[39m)\n",
      "\n",
      "\u001b[36mFile \u001b[39m\u001b[32mc:\\Users\\esc\\.conda\\envs\\d-unpack\\Lib\\site-packages\\IPython\\core\\interactiveshell.py:3155\u001b[39m, in \u001b[36mInteractiveShell._run_cell\u001b[39m\u001b[34m(self, raw_cell, store_history, silent, shell_futures, cell_id)\u001b[39m\n",
      "\u001b[32m   3152\u001b[39m     runner = _pseudo_sync_runner\n",
      "\u001b[32m   3154\u001b[39m \u001b[38;5;28;01mtry\u001b[39;00m:\n",
      "\u001b[32m-> \u001b[39m\u001b[32m3155\u001b[39m     result = \u001b[43mrunner\u001b[49m\u001b[43m(\u001b[49m\u001b[43mcoro\u001b[49m\u001b[43m)\u001b[49m\n",
      "\u001b[32m   3156\u001b[39m \u001b[38;5;28;01mexcept\u001b[39;00m \u001b[38;5;167;01mBaseException\u001b[39;00m \u001b[38;5;28;01mas\u001b[39;00m e:\n",
      "\u001b[32m   3157\u001b[39m     \u001b[38;5;28;01mtry\u001b[39;00m:\n",
      "\n",
      "\u001b[36mFile \u001b[39m\u001b[32mc:\\Users\\esc\\.conda\\envs\\d-unpack\\Lib\\site-packages\\IPython\\core\\async_helpers.py:128\u001b[39m, in \u001b[36m_pseudo_sync_runner\u001b[39m\u001b[34m(coro)\u001b[39m\n",
      "\u001b[32m    120\u001b[39m \u001b[38;5;250m\u001b[39m\u001b[33;03m\"\"\"\u001b[39;00m\n",
      "\u001b[32m    121\u001b[39m \u001b[33;03mA runner that does not really allow async execution, and just advance the coroutine.\u001b[39;00m\n",
      "\u001b[32m    122\u001b[39m \n",
      "\u001b[32m   (...)\u001b[39m\u001b[32m    125\u001b[39m \u001b[33;03mCredit to Nathaniel Smith\u001b[39;00m\n",
      "\u001b[32m    126\u001b[39m \u001b[33;03m\"\"\"\u001b[39;00m\n",
      "\u001b[32m    127\u001b[39m \u001b[38;5;28;01mtry\u001b[39;00m:\n",
      "\u001b[32m--> \u001b[39m\u001b[32m128\u001b[39m     \u001b[43mcoro\u001b[49m\u001b[43m.\u001b[49m\u001b[43msend\u001b[49m\u001b[43m(\u001b[49m\u001b[38;5;28;43;01mNone\u001b[39;49;00m\u001b[43m)\u001b[49m\n",
      "\u001b[32m    129\u001b[39m \u001b[38;5;28;01mexcept\u001b[39;00m \u001b[38;5;167;01mStopIteration\u001b[39;00m \u001b[38;5;28;01mas\u001b[39;00m exc:\n",
      "\u001b[32m    130\u001b[39m     \u001b[38;5;28;01mreturn\u001b[39;00m exc.value\n",
      "\n",
      "\u001b[36mFile \u001b[39m\u001b[32mc:\\Users\\esc\\.conda\\envs\\d-unpack\\Lib\\site-packages\\IPython\\core\\interactiveshell.py:3367\u001b[39m, in \u001b[36mInteractiveShell.run_cell_async\u001b[39m\u001b[34m(self, raw_cell, store_history, silent, shell_futures, transformed_cell, preprocessing_exc_tuple, cell_id)\u001b[39m\n",
      "\u001b[32m   3363\u001b[39m \u001b[38;5;66;03m# Execute the user code\u001b[39;00m\n",
      "\u001b[32m   3364\u001b[39m interactivity = \u001b[33m\"\u001b[39m\u001b[33mnone\u001b[39m\u001b[33m\"\u001b[39m \u001b[38;5;28;01mif\u001b[39;00m silent \u001b[38;5;28;01melse\u001b[39;00m \u001b[38;5;28mself\u001b[39m.ast_node_interactivity\n",
      "\u001b[32m-> \u001b[39m\u001b[32m3367\u001b[39m has_raised = \u001b[38;5;28;01mawait\u001b[39;00m \u001b[38;5;28mself\u001b[39m.run_ast_nodes(code_ast.body, cell_name,\n",
      "\u001b[32m   3368\u001b[39m        interactivity=interactivity, compiler=compiler, result=result)\n",
      "\u001b[32m   3370\u001b[39m \u001b[38;5;28mself\u001b[39m.last_execution_succeeded = \u001b[38;5;129;01mnot\u001b[39;00m has_raised\n",
      "\u001b[32m   3371\u001b[39m \u001b[38;5;28mself\u001b[39m.last_execution_result = result\n",
      "\n",
      "\u001b[36mFile \u001b[39m\u001b[32mc:\\Users\\esc\\.conda\\envs\\d-unpack\\Lib\\site-packages\\IPython\\core\\interactiveshell.py:3612\u001b[39m, in \u001b[36mInteractiveShell.run_ast_nodes\u001b[39m\u001b[34m(self, nodelist, cell_name, interactivity, compiler, result)\u001b[39m\n",
      "\u001b[32m   3610\u001b[39m         code = compiler(mod, cell_name, mode)\n",
      "\u001b[32m   3611\u001b[39m         asy = compare(code)\n",
      "\u001b[32m-> \u001b[39m\u001b[32m3612\u001b[39m     \u001b[38;5;28;01mif\u001b[39;00m \u001b[38;5;28;01mawait\u001b[39;00m \u001b[38;5;28mself\u001b[39m.run_code(code, result, async_=asy):\n",
      "\u001b[32m   3613\u001b[39m         \u001b[38;5;28;01mreturn\u001b[39;00m \u001b[38;5;28;01mTrue\u001b[39;00m\n",
      "\u001b[32m   3615\u001b[39m \u001b[38;5;66;03m# Flush softspace\u001b[39;00m\n",
      "\n",
      "    \u001b[31m[... skipping hidden 1 frame]\u001b[39m\n",
      "\n",
      "\u001b[36mCell\u001b[39m\u001b[36m \u001b[39m\u001b[32mIn[2]\u001b[39m\u001b[32m, line 16\u001b[39m\n",
      "\u001b[32m     10\u001b[39m \u001b[38;5;129m@workflow\u001b[39m()\n",
      "\u001b[32m     11\u001b[39m \u001b[38;5;28;01mdef\u001b[39;00m\u001b[38;5;250m \u001b[39m\u001b[34mfoo\u001b[39m() -> \u001b[38;5;28;01mNone\u001b[39;00m:\n",
      "\u001b[32m     12\u001b[39m     f(**{\u001b[33m'\u001b[39m\u001b[33ma\u001b[39m\u001b[33m'\u001b[39m:\u001b[32m1\u001b[39m, \u001b[33m'\u001b[39m\u001b[33mb\u001b[39m\u001b[33m'\u001b[39m: \u001b[32m2\u001b[39m, \u001b[33m'\u001b[39m\u001b[33mc\u001b[39m\u001b[33m'\u001b[39m: \u001b[32m3\u001b[39m})\n",
      "\u001b[32m---> \u001b[39m\u001b[32m16\u001b[39m result = \u001b[43mfoo\u001b[49m\u001b[43m(\u001b[49m\u001b[43m)\u001b[49m\n",
      "\u001b[32m     18\u001b[39m workflow = construct(result, simplify_ids=\u001b[38;5;28;01mTrue\u001b[39;00m)\n",
      "\u001b[32m     19\u001b[39m cwl = render(workflow)\n",
      "\n",
      "\u001b[31mTaskException\u001b[39m: Attempted to build a workflow from a return-value/result/expression with no references.\n",
      "Task foo declared in <module> at C:\\Users\\esc\\AppData\\Local\\Temp\\ipykernel_214932\\1545438717.py:10\n",
      "@workflow()"
     ]
    }
   ],
   "source": [
    "from dewret.renderers.cwl import render\n",
    "from dewret.tasks import task, construct, workflow\n",
    "from typing import TypedDict, NotRequired, Unpack, Any\n",
    "\n",
    "@task()\n",
    "def f(a: int, b: int,c: int) -> list[int]:\n",
    "    return [a, b, c]\n",
    "\n",
    "def g(**Unpack[])\n",
    "\n",
    "\n",
    "@workflow()\n",
    "def foo() -> None:\n",
    "    f(**{'a':1, 'b': 2, 'c': 3})\n",
    "\n",
    "\n",
    "\n",
    "result = foo()\n",
    "\n",
    "workflow = construct(result, simplify_ids=True)\n",
    "cwl = render(workflow)\n",
    "cwl"
   ]
  },
  {
   "cell_type": "code",
   "execution_count": 26,
   "id": "6cc0dfd5",
   "metadata": {},
   "outputs": [
    {
     "name": "stdout",
     "output_type": "stream",
     "text": [
      "pass - file is None, module is 1 and pipeline_name is 1\n"
     ]
    }
   ],
   "source": [
    "file, module, pipeline_name = None, 1, 1\n",
    "# \"test_pipeline\"\n",
    "\n",
    "match file, module, pipeline_name:\n",
    "    case None, None, None:\n",
    "        print(\"fail - all None\")\n",
    "    case file, None, None:\n",
    "        print(\"pass - only file\")\n",
    "    case (None, _, None) | (None, None, _):\n",
    "        print(\"fail - need m and p\")\n",
    "    case (_, _, None) | (_, None, _):\n",
    "        print(\"fail - need m or f\")\n",
    "    case None, module, pipeline_name:\n",
    "        print(f\"pass - file is {file}, module is {module} and pipeline_name is {pipeline_name}\")"
   ]
  },
  {
   "cell_type": "code",
   "execution_count": 53,
   "id": "2a8a0214",
   "metadata": {},
   "outputs": [
    {
     "data": {
      "text/plain": [
       "True"
      ]
     },
     "execution_count": 53,
     "metadata": {},
     "output_type": "execute_result"
    }
   ],
   "source": [
    "file, module, pipeline_name = 1, None, 1\n",
    "\n",
    "(bool(file) or (bool(module) == bool(pipeline_name)))\n"
   ]
  },
  {
   "cell_type": "code",
   "execution_count": 46,
   "id": "65f81d3e",
   "metadata": {},
   "outputs": [
    {
     "name": "stdout",
     "output_type": "stream",
     "text": [
      "True\n"
     ]
    }
   ],
   "source": [
    "print (bool(1))"
   ]
  }
 ],
 "metadata": {
  "kernelspec": {
   "display_name": "dewret-env-2",
   "language": "python",
   "name": "python3"
  },
  "language_info": {
   "codemirror_mode": {
    "name": "ipython",
    "version": 3
   },
   "file_extension": ".py",
   "mimetype": "text/x-python",
   "name": "python",
   "nbconvert_exporter": "python",
   "pygments_lexer": "ipython3",
   "version": "3.11.13"
  }
 },
 "nbformat": 4,
 "nbformat_minor": 5
}
