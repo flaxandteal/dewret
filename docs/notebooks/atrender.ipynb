{
 "cells": [
  {
   "cell_type": "markdown",
   "id": "48c9e2a5",
   "metadata": {},
   "source": [
    "## AtRender annotations with arguments tells dewret to evalute those arguments at render time, input ends up capitalized in the rendered output"
   ]
  },
  {
   "cell_type": "code",
   "execution_count": null,
   "id": "91f2cbaa",
   "metadata": {},
   "outputs": [
    {
     "data": {
      "text/plain": [
       "{'__root__': {'cwlVersion': 1.2,\n",
       "  'class': 'Workflow',\n",
       "  'inputs': {},\n",
       "  'outputs': {'out': {'label': 'out',\n",
       "    'type': 'string',\n",
       "    'outputSource': 'create_greeting_in_all_caps-1/out'}},\n",
       "  'steps': {'create_greeting_in_all_caps-1': {'run': 'create_greeting_in_all_caps',\n",
       "    'in': {'prefix': {'default': 'Hello to '}, 'name': {'default': 'John'}},\n",
       "    'out': ['out']}}},\n",
       " 'create_greeting_in_all_caps-1': {'cwlVersion': 1.2,\n",
       "  'class': 'Workflow',\n",
       "  'inputs': {},\n",
       "  'outputs': {'out': {'label': 'out',\n",
       "    'type': 'string',\n",
       "    'outputSource': 'concat_strings-1-1/out'}},\n",
       "  'steps': {'concat_strings-1-1': {'run': 'concat_strings',\n",
       "    'in': {'str1': {'default': 'HELLO TO '}, 'str2': {'default': 'JOHN'}},\n",
       "    'out': ['out']}}}}"
      ]
     },
     "execution_count": null,
     "metadata": {},
     "output_type": "execute_result"
    }
   ],
   "source": [
    "from dewret.renderers.cwl import render\n",
    "from dewret.tasks import task, construct, workflow\n",
    "from dewret.annotations import AtRender\n",
    "\n",
    "@task()\n",
    "def concat_strings(str1: str, str2: str) -> str:\n",
    "    return str1 + str2\n",
    "\n",
    "@workflow()\n",
    "def create_greeting_in_all_caps(prefix: AtRender[str], name: AtRender[str]) -> str:\n",
    "    prefix_cap = prefix.upper()\n",
    "    name_cap = name.upper()\n",
    "    return concat_strings(str1=prefix_cap, str2=name_cap)\n",
    "\n",
    "result = create_greeting_in_all_caps(prefix=\"Hello to \", name=\"John\")\n",
    "workflow = construct(result, simplify_ids=True)\n",
    "cwl = render(workflow)\n",
    "cwl"
   ]
  },
  {
   "cell_type": "markdown",
   "id": "34bdff36",
   "metadata": {},
   "source": [
    "## If one creates a `@task` it the capitalizing will work at run time."
   ]
  },
  {
   "cell_type": "code",
   "execution_count": null,
   "id": "4543e985",
   "metadata": {},
   "outputs": [
    {
     "data": {
      "text/plain": [
       "{'__root__': {'cwlVersion': 1.2,\n",
       "  'class': 'Workflow',\n",
       "  'inputs': {'create_greeting_in_all_caps-1-prefix': {'label': 'prefix',\n",
       "    'type': 'string',\n",
       "    'default': 'Hello to '},\n",
       "   'create_greeting_in_all_caps-1-name': {'label': 'name',\n",
       "    'type': 'string',\n",
       "    'default': 'John'}},\n",
       "  'outputs': {'out': {'label': 'out',\n",
       "    'type': 'string',\n",
       "    'outputSource': 'create_greeting_in_all_caps-1/out'}},\n",
       "  'steps': {'create_greeting_in_all_caps-1': {'run': 'create_greeting_in_all_caps',\n",
       "    'in': {'prefix': {'source': 'create_greeting_in_all_caps-1-prefix'},\n",
       "     'name': {'source': 'create_greeting_in_all_caps-1-name'}},\n",
       "    'out': ['out']}}},\n",
       " 'create_greeting_in_all_caps-1': {'cwlVersion': 1.2,\n",
       "  'class': 'Workflow',\n",
       "  'inputs': {'prefix': {'label': 'prefix',\n",
       "    'type': 'string',\n",
       "    'default': 'Hello to '},\n",
       "   'name': {'label': 'name', 'type': 'string', 'default': 'John'}},\n",
       "  'outputs': {'out': {'label': 'out',\n",
       "    'type': 'string',\n",
       "    'outputSource': 'concat_strings-1-1/out'}},\n",
       "  'steps': {'caps-1-1': {'run': 'caps',\n",
       "    'in': {'arg': {'source': 'name'}},\n",
       "    'out': ['out']},\n",
       "   'caps-1-2': {'run': 'caps',\n",
       "    'in': {'arg': {'source': 'prefix'}},\n",
       "    'out': ['out']},\n",
       "   'concat_strings-1-1': {'run': 'concat_strings',\n",
       "    'in': {'str1': {'source': 'caps-1-2/out'},\n",
       "     'str2': {'source': 'caps-1-1/out'}},\n",
       "    'out': ['out']}}}}"
      ]
     },
     "execution_count": null,
     "metadata": {},
     "output_type": "execute_result"
    }
   ],
   "source": [
    "from dewret.renderers.cwl import render\n",
    "from dewret.tasks import task, construct, workflow\n",
    "\n",
    "@task()\n",
    "def concat_strings(str1: str, str2: str) -> str:\n",
    "    return str1 + str2\n",
    "\n",
    "@task()\n",
    "def caps(arg: str) -> str:\n",
    "    return arg.upper()\n",
    "\n",
    "@workflow()\n",
    "def create_greeting_in_all_caps(prefix: str, name: str) -> str:\n",
    "    prefix_cap = caps(arg=prefix)\n",
    "    name_cap = caps(arg=name)\n",
    "    return concat_strings(str1=prefix_cap, str2=name_cap)\n",
    "\n",
    "\n",
    "result = create_greeting_in_all_caps(prefix=\"Hello to \", name=\"John\")\n",
    "\n",
    "workflow = construct(result, simplify_ids=True)\n",
    "cwl = render(workflow)\n",
    "cwl"
   ]
  },
  {
   "cell_type": "markdown",
   "id": "21e3e543",
   "metadata": {},
   "source": [
    "## With no annotations, rendering will fail, with a somewhat cryptic message that should be improved"
   ]
  },
  {
   "cell_type": "code",
   "execution_count": null,
   "id": "9afe58f9",
   "metadata": {},
   "outputs": [
    {
     "ename": "TaskException",
     "evalue": "'ParameterReference' object has no attribute 'upper'",
     "output_type": "error",
     "traceback": [
      "\u001b[31m---------------------------------------------------------------------------\u001b[39m",
      "\u001b[31mAttributeError\u001b[39m                            Traceback (most recent call last)",
      "\u001b[36mFile \u001b[39m\u001b[32mc:\\Users\\esc\\miniconda3\\envs\\0.12-env\\Lib\\site-packages\\dewret\\workflow.py:1546\u001b[39m, in \u001b[36mParameterReference.__getitem__\u001b[39m\u001b[34m(self, attr)\u001b[39m\n\u001b[32m   1545\u001b[39m \u001b[38;5;28;01mtry\u001b[39;00m:\n\u001b[32m-> \u001b[39m\u001b[32m1546\u001b[39m     \u001b[38;5;28;01mreturn\u001b[39;00m \u001b[38;5;28;43mself\u001b[39;49m\u001b[43m.\u001b[49m\u001b[43mfind_field\u001b[49m\u001b[43m(\u001b[49m\n\u001b[32m   1547\u001b[39m \u001b[43m        \u001b[49m\u001b[43mfield\u001b[49m\u001b[43m=\u001b[49m\u001b[43mattr\u001b[49m\u001b[43m,\u001b[49m\u001b[43m \u001b[49m\u001b[43mworkflow\u001b[49m\u001b[43m=\u001b[49m\u001b[38;5;28;43mself\u001b[39;49m\u001b[43m.\u001b[49m\u001b[43m__workflow__\u001b[49m\u001b[43m,\u001b[49m\u001b[43m \u001b[49m\u001b[43mparameter\u001b[49m\u001b[43m=\u001b[49m\u001b[38;5;28;43mself\u001b[39;49m\u001b[43m.\u001b[49m\u001b[43m_\u001b[49m\u001b[43m.\u001b[49m\u001b[43mparameter\u001b[49m\n\u001b[32m   1548\u001b[39m \u001b[43m    \u001b[49m\u001b[43m)\u001b[49m\n\u001b[32m   1549\u001b[39m \u001b[38;5;28;01mexcept\u001b[39;00m \u001b[38;5;167;01mAttributeError\u001b[39;00m \u001b[38;5;28;01mas\u001b[39;00m exc:\n",
      "\u001b[36mFile \u001b[39m\u001b[32mc:\\Users\\esc\\miniconda3\\envs\\0.12-env\\Lib\\site-packages\\dewret\\workflow.py:1101\u001b[39m, in \u001b[36mFieldableMixin.find_field\u001b[39m\u001b[34m(self, field, fallback_type, **init_kwargs)\u001b[39m\n\u001b[32m   1097\u001b[39m     \u001b[38;5;28;01mreturn\u001b[39;00m \u001b[38;5;28mself\u001b[39m.__make_reference__(\n\u001b[32m   1098\u001b[39m         typ=field_type, field=new_field, **init_kwargs\n\u001b[32m   1099\u001b[39m     )\n\u001b[32m-> \u001b[39m\u001b[32m1101\u001b[39m \u001b[38;5;28;01mraise\u001b[39;00m \u001b[38;5;167;01mAttributeError\u001b[39;00m(\n\u001b[32m   1102\u001b[39m     \u001b[33mf\u001b[39m\u001b[33m\"\u001b[39m\u001b[33mCould not determine the type for field \u001b[39m\u001b[38;5;132;01m{\u001b[39;00mfield\u001b[38;5;132;01m}\u001b[39;00m\u001b[33m in type \u001b[39m\u001b[38;5;132;01m{\u001b[39;00mparent_type\u001b[38;5;132;01m}\u001b[39;00m\u001b[33m (type of parent type is \u001b[39m\u001b[38;5;132;01m{\u001b[39;00m\u001b[38;5;28mtype\u001b[39m(parent_type)\u001b[38;5;132;01m}\u001b[39;00m\u001b[33m)\u001b[39m\u001b[33m\"\u001b[39m\n\u001b[32m   1103\u001b[39m )\n",
      "\u001b[31mAttributeError\u001b[39m: Could not determine the type for field upper in type <class 'str'> (type of parent type is <class 'type'>)",
      "\nThe above exception was the direct cause of the following exception:\n",
      "\u001b[31mKeyError\u001b[39m                                  Traceback (most recent call last)",
      "\u001b[36mFile \u001b[39m\u001b[32mc:\\Users\\esc\\miniconda3\\envs\\0.12-env\\Lib\\site-packages\\dewret\\workflow.py:1574\u001b[39m, in \u001b[36mParameterReference.__getattr__\u001b[39m\u001b[34m(self, attr)\u001b[39m\n\u001b[32m   1573\u001b[39m \u001b[38;5;28;01mtry\u001b[39;00m:\n\u001b[32m-> \u001b[39m\u001b[32m1574\u001b[39m     \u001b[38;5;28;01mreturn\u001b[39;00m \u001b[38;5;28;43mself\u001b[39;49m\u001b[43m[\u001b[49m\u001b[43mattr\u001b[49m\u001b[43m]\u001b[49m\n\u001b[32m   1575\u001b[39m \u001b[38;5;28;01mexcept\u001b[39;00m \u001b[38;5;167;01mKeyError\u001b[39;00m \u001b[38;5;28;01mas\u001b[39;00m _:\n",
      "\u001b[36mFile \u001b[39m\u001b[32mc:\\Users\\esc\\miniconda3\\envs\\0.12-env\\Lib\\site-packages\\dewret\\workflow.py:1550\u001b[39m, in \u001b[36mParameterReference.__getitem__\u001b[39m\u001b[34m(self, attr)\u001b[39m\n\u001b[32m   1549\u001b[39m \u001b[38;5;28;01mexcept\u001b[39;00m \u001b[38;5;167;01mAttributeError\u001b[39;00m \u001b[38;5;28;01mas\u001b[39;00m exc:\n\u001b[32m-> \u001b[39m\u001b[32m1550\u001b[39m     \u001b[38;5;28;01mraise\u001b[39;00m \u001b[38;5;167;01mKeyError\u001b[39;00m(\n\u001b[32m   1551\u001b[39m         \u001b[33mf\u001b[39m\u001b[33m\"\u001b[39m\u001b[33mKey not found in \u001b[39m\u001b[38;5;132;01m{\u001b[39;00m\u001b[38;5;28mself\u001b[39m.__root_name__\u001b[38;5;132;01m}\u001b[39;00m\u001b[33m (\u001b[39m\u001b[38;5;132;01m{\u001b[39;00m\u001b[38;5;28mtype\u001b[39m(\u001b[38;5;28mself\u001b[39m)\u001b[38;5;132;01m}\u001b[39;00m\u001b[33m:\u001b[39m\u001b[38;5;132;01m{\u001b[39;00m\u001b[38;5;28mself\u001b[39m.__type__\u001b[38;5;132;01m}\u001b[39;00m\u001b[33m): \u001b[39m\u001b[38;5;132;01m{\u001b[39;00mattr\u001b[38;5;132;01m}\u001b[39;00m\u001b[33m\"\u001b[39m\n\u001b[32m   1552\u001b[39m         + (\n\u001b[32m   1553\u001b[39m             \u001b[33m\"\u001b[39m\u001b[33m. This could be because you are trying to iterate/index a reference whose type is not definitely iterable - double check your typehints.\u001b[39m\u001b[33m\"\u001b[39m\n\u001b[32m   1554\u001b[39m             \u001b[38;5;28;01mif\u001b[39;00m \u001b[38;5;28misinstance\u001b[39m(attr, \u001b[38;5;28mint\u001b[39m)\n\u001b[32m   1555\u001b[39m             \u001b[38;5;28;01melse\u001b[39;00m \u001b[33m\"\u001b[39m\u001b[33m\"\u001b[39m\n\u001b[32m   1556\u001b[39m         )\n\u001b[32m   1557\u001b[39m     ) \u001b[38;5;28;01mfrom\u001b[39;00m\u001b[38;5;250m \u001b[39m\u001b[34;01mexc\u001b[39;00m\n",
      "\u001b[31mKeyError\u001b[39m: \"Key not found in prefix (<class 'dewret.workflow.ParameterReference'>:<class 'str'>): upper\"",
      "\nDuring handling of the above exception, another exception occurred:\n",
      "\u001b[31mAttributeError\u001b[39m                            Traceback (most recent call last)",
      "\u001b[36mFile \u001b[39m\u001b[32mc:\\Users\\esc\\miniconda3\\envs\\0.12-env\\Lib\\site-packages\\dewret\\tasks.py:641\u001b[39m, in \u001b[36mtask.<locals>._task.<locals>._fn\u001b[39m\u001b[34m(__workflow__, __traceback__, *args, **kwargs)\u001b[39m\n\u001b[32m    640\u001b[39m \u001b[38;5;28;01mwith\u001b[39;00m in_nested_task():\n\u001b[32m--> \u001b[39m\u001b[32m641\u001b[39m     output = \u001b[43manalyser\u001b[49m\u001b[43m.\u001b[49m\u001b[43mwith_new_globals\u001b[49m\u001b[43m(\u001b[49m\u001b[43mnested_globals\u001b[49m\u001b[43m)\u001b[49m\u001b[43m(\u001b[49m\n\u001b[32m    642\u001b[39m \u001b[43m        \u001b[49m\u001b[43m*\u001b[49m\u001b[43m*\u001b[49m\u001b[43mnested_kwargs\u001b[49m\n\u001b[32m    643\u001b[39m \u001b[43m    \u001b[49m\u001b[43m)\u001b[49m\n\u001b[32m    644\u001b[39m     nested_workflow = _manager(\n\u001b[32m    645\u001b[39m         output, __workflow__=nested_workflow\n\u001b[32m    646\u001b[39m     )\n",
      "\u001b[36mCell\u001b[39m\u001b[36m \u001b[39m\u001b[32mIn[7]\u001b[39m\u001b[32m, line 10\u001b[39m, in \u001b[36mcreate_greeting_in_all_caps\u001b[39m\u001b[34m(prefix, name)\u001b[39m\n\u001b[32m      8\u001b[39m \u001b[38;5;129m@workflow\u001b[39m()\n\u001b[32m      9\u001b[39m \u001b[38;5;28;01mdef\u001b[39;00m\u001b[38;5;250m \u001b[39m\u001b[34mcreate_greeting_in_all_caps\u001b[39m(prefix:\u001b[38;5;28mstr\u001b[39m, name: \u001b[38;5;28mstr\u001b[39m) -> \u001b[38;5;28mstr\u001b[39m:\n\u001b[32m---> \u001b[39m\u001b[32m10\u001b[39m     prefix_cap = \u001b[43mprefix\u001b[49m\u001b[43m.\u001b[49m\u001b[43mupper\u001b[49m()\n\u001b[32m     11\u001b[39m     name_cap = name.upper()\n",
      "\u001b[36mFile \u001b[39m\u001b[32mc:\\Users\\esc\\miniconda3\\envs\\0.12-env\\Lib\\site-packages\\dewret\\workflow.py:1576\u001b[39m, in \u001b[36mParameterReference.__getattr__\u001b[39m\u001b[34m(self, attr)\u001b[39m\n\u001b[32m   1575\u001b[39m \u001b[38;5;28;01mexcept\u001b[39;00m \u001b[38;5;167;01mKeyError\u001b[39;00m \u001b[38;5;28;01mas\u001b[39;00m _:\n\u001b[32m-> \u001b[39m\u001b[32m1576\u001b[39m     \u001b[38;5;28;01mreturn\u001b[39;00m \u001b[38;5;28;43msuper\u001b[39;49m\u001b[43m(\u001b[49m\u001b[43m)\u001b[49m\u001b[43m.\u001b[49m\u001b[34;43m__getattribute__\u001b[39;49m\u001b[43m(\u001b[49m\u001b[43mattr\u001b[49m\u001b[43m)\u001b[49m\n",
      "\u001b[31mAttributeError\u001b[39m: 'ParameterReference' object has no attribute 'upper'",
      "\nThe above exception was the direct cause of the following exception:\n",
      "\u001b[31mTaskException\u001b[39m                             Traceback (most recent call last)",
      "\u001b[36mCell\u001b[39m\u001b[36m \u001b[39m\u001b[32mIn[7]\u001b[39m\u001b[32m, line 14\u001b[39m\n\u001b[32m     11\u001b[39m     name_cap = name.upper()\n\u001b[32m     12\u001b[39m     \u001b[38;5;28;01mreturn\u001b[39;00m concat_strings(str1=prefix_cap, str2=name_cap)\n\u001b[32m---> \u001b[39m\u001b[32m14\u001b[39m result = \u001b[43mcreate_greeting_in_all_caps\u001b[49m\u001b[43m(\u001b[49m\u001b[43mprefix\u001b[49m\u001b[43m=\u001b[49m\u001b[33;43m\"\u001b[39;49m\u001b[33;43mHello to \u001b[39;49m\u001b[33;43m\"\u001b[39;49m\u001b[43m,\u001b[49m\u001b[43m \u001b[49m\u001b[43mname\u001b[49m\u001b[43m=\u001b[49m\u001b[33;43m\"\u001b[39;49m\u001b[33;43mJohn\u001b[39;49m\u001b[33;43m\"\u001b[39;49m\u001b[43m)\u001b[49m\n\u001b[32m     15\u001b[39m workflow = construct(result, simplify_ids=\u001b[38;5;28;01mTrue\u001b[39;00m)\n\u001b[32m     16\u001b[39m cwl = render(workflow)\n",
      "\u001b[36mFile \u001b[39m\u001b[32mc:\\Users\\esc\\miniconda3\\envs\\0.12-env\\Lib\\site-packages\\dewret\\workflow.py:106\u001b[39m, in \u001b[36mLazyEvaluation.__call__\u001b[39m\u001b[34m(self, *args, **kwargs)\u001b[39m\n\u001b[32m     97\u001b[39m \u001b[38;5;250m\u001b[39m\u001b[33;03m\"\"\"Wrapper around a lazy execution.\u001b[39;00m\n\u001b[32m     98\u001b[39m \n\u001b[32m     99\u001b[39m \u001b[33;03mCaptures a traceback, for debugging if this does not work.\u001b[39;00m\n\u001b[32m   (...)\u001b[39m\u001b[32m    103\u001b[39m \u001b[33;03mis attempted.\u001b[39;00m\n\u001b[32m    104\u001b[39m \u001b[33;03m\"\"\"\u001b[39;00m\n\u001b[32m    105\u001b[39m tb = make_traceback()\n\u001b[32m--> \u001b[39m\u001b[32m106\u001b[39m result = \u001b[38;5;28;43mself\u001b[39;49m\u001b[43m.\u001b[49m\u001b[43m_fn\u001b[49m\u001b[43m(\u001b[49m\u001b[43m*\u001b[49m\u001b[43margs\u001b[49m\u001b[43m,\u001b[49m\u001b[43m \u001b[49m\u001b[43m*\u001b[49m\u001b[43m*\u001b[49m\u001b[43mkwargs\u001b[49m\u001b[43m,\u001b[49m\u001b[43m \u001b[49m\u001b[43m__traceback__\u001b[49m\u001b[43m=\u001b[49m\u001b[43mtb\u001b[49m\u001b[43m)\u001b[49m  \u001b[38;5;66;03m# type: ignore[arg-type]\u001b[39;00m\n\u001b[32m    107\u001b[39m \u001b[38;5;28;01mreturn\u001b[39;00m result\n",
      "\u001b[36mFile \u001b[39m\u001b[32mc:\\Users\\esc\\miniconda3\\envs\\0.12-env\\Lib\\site-packages\\dewret\\tasks.py:673\u001b[39m, in \u001b[36mtask.<locals>._task.<locals>._fn\u001b[39m\u001b[34m(__workflow__, __traceback__, *args, **kwargs)\u001b[39m\n\u001b[32m    671\u001b[39m     \u001b[38;5;28;01mraise\u001b[39;00m exc\n\u001b[32m    672\u001b[39m \u001b[38;5;28;01mexcept\u001b[39;00m \u001b[38;5;167;01mException\u001b[39;00m \u001b[38;5;28;01mas\u001b[39;00m exc:\n\u001b[32m--> \u001b[39m\u001b[32m673\u001b[39m     \u001b[38;5;28;01mraise\u001b[39;00m TaskException(\n\u001b[32m    674\u001b[39m         fn,\n\u001b[32m    675\u001b[39m         declaration_tb,\n\u001b[32m    676\u001b[39m         __traceback__,\n\u001b[32m    677\u001b[39m         exc.args[\u001b[32m0\u001b[39m] \u001b[38;5;28;01mif\u001b[39;00m exc.args \u001b[38;5;28;01melse\u001b[39;00m \u001b[33mf\u001b[39m\u001b[33m\"\u001b[39m\u001b[33mCould not call task \u001b[39m\u001b[38;5;132;01m{\u001b[39;00mfn.\u001b[34m__name__\u001b[39m\u001b[38;5;132;01m}\u001b[39;00m\u001b[33m\"\u001b[39m,\n\u001b[32m    678\u001b[39m     ) \u001b[38;5;28;01mfrom\u001b[39;00m\u001b[38;5;250m \u001b[39m\u001b[34;01mexc\u001b[39;00m\n\u001b[32m    679\u001b[39m \u001b[38;5;28;01mfinally\u001b[39;00m:\n\u001b[32m    680\u001b[39m     \u001b[38;5;28;01mif\u001b[39;00m configuration:\n",
      "\u001b[36mFile \u001b[39m\u001b[32m<frozen runpy>:198\u001b[39m, in \u001b[36m_run_module_as_main\u001b[39m\u001b[34m(mod_name, alter_argv)\u001b[39m\n",
      "\u001b[36mFile \u001b[39m\u001b[32m<frozen runpy>:88\u001b[39m, in \u001b[36m_run_code\u001b[39m\u001b[34m(code, run_globals, init_globals, mod_name, mod_spec, pkg_name, script_name)\u001b[39m\n",
      "\u001b[36mFile \u001b[39m\u001b[32mc:\\Users\\esc\\miniconda3\\envs\\0.12-env\\Lib\\site-packages\\ipykernel_launcher.py:18\u001b[39m\n\u001b[32m     14\u001b[39m     \u001b[38;5;28;01mdel\u001b[39;00m sys.path[\u001b[32m0\u001b[39m]\n\u001b[32m     16\u001b[39m \u001b[38;5;28;01mfrom\u001b[39;00m\u001b[38;5;250m \u001b[39m\u001b[34;01mipykernel\u001b[39;00m\u001b[38;5;250m \u001b[39m\u001b[38;5;28;01mimport\u001b[39;00m kernelapp \u001b[38;5;28;01mas\u001b[39;00m app\n\u001b[32m---> \u001b[39m\u001b[32m18\u001b[39m \u001b[43mapp\u001b[49m\u001b[43m.\u001b[49m\u001b[43mlaunch_new_instance\u001b[49m\u001b[43m(\u001b[49m\u001b[43m)\u001b[49m\n",
      "\u001b[36mFile \u001b[39m\u001b[32mc:\\Users\\esc\\miniconda3\\envs\\0.12-env\\Lib\\site-packages\\traitlets\\config\\application.py:1075\u001b[39m, in \u001b[36mApplication.launch_instance\u001b[39m\u001b[34m(cls, argv, **kwargs)\u001b[39m\n\u001b[32m   1073\u001b[39m app = \u001b[38;5;28mcls\u001b[39m.instance(**kwargs)\n\u001b[32m   1074\u001b[39m app.initialize(argv)\n\u001b[32m-> \u001b[39m\u001b[32m1075\u001b[39m \u001b[43mapp\u001b[49m\u001b[43m.\u001b[49m\u001b[43mstart\u001b[49m\u001b[43m(\u001b[49m\u001b[43m)\u001b[49m\n",
      "\u001b[36mFile \u001b[39m\u001b[32mc:\\Users\\esc\\miniconda3\\envs\\0.12-env\\Lib\\site-packages\\ipykernel\\kernelapp.py:739\u001b[39m, in \u001b[36mIPKernelApp.start\u001b[39m\u001b[34m(self)\u001b[39m\n\u001b[32m    737\u001b[39m \u001b[38;5;28;01melse\u001b[39;00m:\n\u001b[32m    738\u001b[39m     \u001b[38;5;28;01mtry\u001b[39;00m:\n\u001b[32m--> \u001b[39m\u001b[32m739\u001b[39m         \u001b[38;5;28;43mself\u001b[39;49m\u001b[43m.\u001b[49m\u001b[43mio_loop\u001b[49m\u001b[43m.\u001b[49m\u001b[43mstart\u001b[49m\u001b[43m(\u001b[49m\u001b[43m)\u001b[49m\n\u001b[32m    740\u001b[39m     \u001b[38;5;28;01mexcept\u001b[39;00m \u001b[38;5;167;01mKeyboardInterrupt\u001b[39;00m:\n\u001b[32m    741\u001b[39m         \u001b[38;5;28;01mpass\u001b[39;00m\n",
      "\u001b[36mFile \u001b[39m\u001b[32mc:\\Users\\esc\\miniconda3\\envs\\0.12-env\\Lib\\site-packages\\tornado\\platform\\asyncio.py:211\u001b[39m, in \u001b[36mBaseAsyncIOLoop.start\u001b[39m\u001b[34m(self)\u001b[39m\n\u001b[32m    210\u001b[39m \u001b[38;5;28;01mdef\u001b[39;00m\u001b[38;5;250m \u001b[39m\u001b[34mstart\u001b[39m(\u001b[38;5;28mself\u001b[39m) -> \u001b[38;5;28;01mNone\u001b[39;00m:\n\u001b[32m--> \u001b[39m\u001b[32m211\u001b[39m     \u001b[38;5;28;43mself\u001b[39;49m\u001b[43m.\u001b[49m\u001b[43masyncio_loop\u001b[49m\u001b[43m.\u001b[49m\u001b[43mrun_forever\u001b[49m\u001b[43m(\u001b[49m\u001b[43m)\u001b[49m\n",
      "\u001b[36mFile \u001b[39m\u001b[32mc:\\Users\\esc\\miniconda3\\envs\\0.12-env\\Lib\\asyncio\\base_events.py:608\u001b[39m, in \u001b[36mBaseEventLoop.run_forever\u001b[39m\u001b[34m(self)\u001b[39m\n\u001b[32m    606\u001b[39m events._set_running_loop(\u001b[38;5;28mself\u001b[39m)\n\u001b[32m    607\u001b[39m \u001b[38;5;28;01mwhile\u001b[39;00m \u001b[38;5;28;01mTrue\u001b[39;00m:\n\u001b[32m--> \u001b[39m\u001b[32m608\u001b[39m     \u001b[38;5;28;43mself\u001b[39;49m\u001b[43m.\u001b[49m\u001b[43m_run_once\u001b[49m\u001b[43m(\u001b[49m\u001b[43m)\u001b[49m\n\u001b[32m    609\u001b[39m     \u001b[38;5;28;01mif\u001b[39;00m \u001b[38;5;28mself\u001b[39m._stopping:\n\u001b[32m    610\u001b[39m         \u001b[38;5;28;01mbreak\u001b[39;00m\n",
      "\u001b[36mFile \u001b[39m\u001b[32mc:\\Users\\esc\\miniconda3\\envs\\0.12-env\\Lib\\asyncio\\base_events.py:1936\u001b[39m, in \u001b[36mBaseEventLoop._run_once\u001b[39m\u001b[34m(self)\u001b[39m\n\u001b[32m   1934\u001b[39m             \u001b[38;5;28mself\u001b[39m._current_handle = \u001b[38;5;28;01mNone\u001b[39;00m\n\u001b[32m   1935\u001b[39m     \u001b[38;5;28;01melse\u001b[39;00m:\n\u001b[32m-> \u001b[39m\u001b[32m1936\u001b[39m         \u001b[43mhandle\u001b[49m\u001b[43m.\u001b[49m\u001b[43m_run\u001b[49m\u001b[43m(\u001b[49m\u001b[43m)\u001b[49m\n\u001b[32m   1937\u001b[39m handle = \u001b[38;5;28;01mNone\u001b[39;00m\n",
      "\u001b[36mFile \u001b[39m\u001b[32mc:\\Users\\esc\\miniconda3\\envs\\0.12-env\\Lib\\asyncio\\events.py:84\u001b[39m, in \u001b[36mHandle._run\u001b[39m\u001b[34m(self)\u001b[39m\n\u001b[32m     82\u001b[39m \u001b[38;5;28;01mdef\u001b[39;00m\u001b[38;5;250m \u001b[39m\u001b[34m_run\u001b[39m(\u001b[38;5;28mself\u001b[39m):\n\u001b[32m     83\u001b[39m     \u001b[38;5;28;01mtry\u001b[39;00m:\n\u001b[32m---> \u001b[39m\u001b[32m84\u001b[39m         \u001b[38;5;28;43mself\u001b[39;49m\u001b[43m.\u001b[49m\u001b[43m_context\u001b[49m\u001b[43m.\u001b[49m\u001b[43mrun\u001b[49m\u001b[43m(\u001b[49m\u001b[38;5;28;43mself\u001b[39;49m\u001b[43m.\u001b[49m\u001b[43m_callback\u001b[49m\u001b[43m,\u001b[49m\u001b[43m \u001b[49m\u001b[43m*\u001b[49m\u001b[38;5;28;43mself\u001b[39;49m\u001b[43m.\u001b[49m\u001b[43m_args\u001b[49m\u001b[43m)\u001b[49m\n\u001b[32m     85\u001b[39m     \u001b[38;5;28;01mexcept\u001b[39;00m (\u001b[38;5;167;01mSystemExit\u001b[39;00m, \u001b[38;5;167;01mKeyboardInterrupt\u001b[39;00m):\n\u001b[32m     86\u001b[39m         \u001b[38;5;28;01mraise\u001b[39;00m\n",
      "\u001b[36mFile \u001b[39m\u001b[32mc:\\Users\\esc\\miniconda3\\envs\\0.12-env\\Lib\\site-packages\\ipykernel\\kernelbase.py:516\u001b[39m, in \u001b[36mKernel.dispatch_queue\u001b[39m\u001b[34m(self)\u001b[39m\n\u001b[32m    514\u001b[39m \u001b[38;5;28;01mwhile\u001b[39;00m \u001b[38;5;28;01mTrue\u001b[39;00m:\n\u001b[32m    515\u001b[39m     \u001b[38;5;28;01mtry\u001b[39;00m:\n\u001b[32m--> \u001b[39m\u001b[32m516\u001b[39m         \u001b[38;5;28;01mawait\u001b[39;00m \u001b[38;5;28mself\u001b[39m.process_one()\n\u001b[32m    517\u001b[39m     \u001b[38;5;28;01mexcept\u001b[39;00m \u001b[38;5;167;01mException\u001b[39;00m:\n\u001b[32m    518\u001b[39m         \u001b[38;5;28mself\u001b[39m.log.exception(\u001b[33m\"\u001b[39m\u001b[33mError in message handler\u001b[39m\u001b[33m\"\u001b[39m)\n",
      "\u001b[36mFile \u001b[39m\u001b[32mc:\\Users\\esc\\miniconda3\\envs\\0.12-env\\Lib\\site-packages\\ipykernel\\kernelbase.py:505\u001b[39m, in \u001b[36mKernel.process_one\u001b[39m\u001b[34m(self, wait)\u001b[39m\n\u001b[32m    502\u001b[39m         \u001b[38;5;28;01mawait\u001b[39;00m asyncio.sleep(\u001b[32m0\u001b[39m)\n\u001b[32m    503\u001b[39m         \u001b[38;5;28mself\u001b[39m.control_stream.flush()\n\u001b[32m--> \u001b[39m\u001b[32m505\u001b[39m \u001b[38;5;28;01mawait\u001b[39;00m dispatch(*args)\n",
      "\u001b[36mFile \u001b[39m\u001b[32mc:\\Users\\esc\\miniconda3\\envs\\0.12-env\\Lib\\site-packages\\ipykernel\\kernelbase.py:397\u001b[39m, in \u001b[36mKernel.dispatch_shell\u001b[39m\u001b[34m(self, msg)\u001b[39m\n\u001b[32m    395\u001b[39m     result = handler(\u001b[38;5;28mself\u001b[39m.shell_stream, idents, msg)\n\u001b[32m    396\u001b[39m     \u001b[38;5;28;01mif\u001b[39;00m inspect.isawaitable(result):\n\u001b[32m--> \u001b[39m\u001b[32m397\u001b[39m         \u001b[38;5;28;01mawait\u001b[39;00m result\n\u001b[32m    398\u001b[39m \u001b[38;5;28;01mexcept\u001b[39;00m \u001b[38;5;167;01mException\u001b[39;00m:\n\u001b[32m    399\u001b[39m     \u001b[38;5;28mself\u001b[39m.log.error(\u001b[33m\"\u001b[39m\u001b[33mException in message handler:\u001b[39m\u001b[33m\"\u001b[39m, exc_info=\u001b[38;5;28;01mTrue\u001b[39;00m)  \u001b[38;5;66;03m# noqa: G201\u001b[39;00m\n",
      "\u001b[36mFile \u001b[39m\u001b[32mc:\\Users\\esc\\miniconda3\\envs\\0.12-env\\Lib\\site-packages\\ipykernel\\ipkernel.py:368\u001b[39m, in \u001b[36mIPythonKernel.execute_request\u001b[39m\u001b[34m(self, stream, ident, parent)\u001b[39m\n\u001b[32m    366\u001b[39m parent_header = extract_header(parent)\n\u001b[32m    367\u001b[39m \u001b[38;5;28mself\u001b[39m._associate_new_top_level_threads_with(parent_header)\n\u001b[32m--> \u001b[39m\u001b[32m368\u001b[39m \u001b[38;5;28;01mawait\u001b[39;00m \u001b[38;5;28msuper\u001b[39m().execute_request(stream, ident, parent)\n",
      "\u001b[36mFile \u001b[39m\u001b[32mc:\\Users\\esc\\miniconda3\\envs\\0.12-env\\Lib\\site-packages\\ipykernel\\kernelbase.py:752\u001b[39m, in \u001b[36mKernel.execute_request\u001b[39m\u001b[34m(self, stream, ident, parent)\u001b[39m\n\u001b[32m    749\u001b[39m reply_content = \u001b[38;5;28mself\u001b[39m.do_execute(**do_execute_args)\n\u001b[32m    751\u001b[39m \u001b[38;5;28;01mif\u001b[39;00m inspect.isawaitable(reply_content):\n\u001b[32m--> \u001b[39m\u001b[32m752\u001b[39m     reply_content = \u001b[38;5;28;01mawait\u001b[39;00m reply_content\n\u001b[32m    754\u001b[39m \u001b[38;5;66;03m# Flush output before sending the reply.\u001b[39;00m\n\u001b[32m    755\u001b[39m \u001b[38;5;28;01mif\u001b[39;00m sys.stdout \u001b[38;5;129;01mis\u001b[39;00m \u001b[38;5;129;01mnot\u001b[39;00m \u001b[38;5;28;01mNone\u001b[39;00m:\n",
      "\u001b[36mFile \u001b[39m\u001b[32mc:\\Users\\esc\\miniconda3\\envs\\0.12-env\\Lib\\site-packages\\ipykernel\\ipkernel.py:455\u001b[39m, in \u001b[36mIPythonKernel.do_execute\u001b[39m\u001b[34m(self, code, silent, store_history, user_expressions, allow_stdin, cell_meta, cell_id)\u001b[39m\n\u001b[32m    450\u001b[39m \u001b[38;5;28;01melse\u001b[39;00m:\n\u001b[32m    451\u001b[39m     \u001b[38;5;66;03m# runner isn't already running,\u001b[39;00m\n\u001b[32m    452\u001b[39m     \u001b[38;5;66;03m# make synchronous call,\u001b[39;00m\n\u001b[32m    453\u001b[39m     \u001b[38;5;66;03m# letting shell dispatch to loop runners\u001b[39;00m\n\u001b[32m    454\u001b[39m     \u001b[38;5;28;01mif\u001b[39;00m accepts_params[\u001b[33m\"\u001b[39m\u001b[33mcell_id\u001b[39m\u001b[33m\"\u001b[39m]:\n\u001b[32m--> \u001b[39m\u001b[32m455\u001b[39m         res = \u001b[43mshell\u001b[49m\u001b[43m.\u001b[49m\u001b[43mrun_cell\u001b[49m\u001b[43m(\u001b[49m\n\u001b[32m    456\u001b[39m \u001b[43m            \u001b[49m\u001b[43mcode\u001b[49m\u001b[43m,\u001b[49m\n\u001b[32m    457\u001b[39m \u001b[43m            \u001b[49m\u001b[43mstore_history\u001b[49m\u001b[43m=\u001b[49m\u001b[43mstore_history\u001b[49m\u001b[43m,\u001b[49m\n\u001b[32m    458\u001b[39m \u001b[43m            \u001b[49m\u001b[43msilent\u001b[49m\u001b[43m=\u001b[49m\u001b[43msilent\u001b[49m\u001b[43m,\u001b[49m\n\u001b[32m    459\u001b[39m \u001b[43m            \u001b[49m\u001b[43mcell_id\u001b[49m\u001b[43m=\u001b[49m\u001b[43mcell_id\u001b[49m\u001b[43m,\u001b[49m\n\u001b[32m    460\u001b[39m \u001b[43m        \u001b[49m\u001b[43m)\u001b[49m\n\u001b[32m    461\u001b[39m     \u001b[38;5;28;01melse\u001b[39;00m:\n\u001b[32m    462\u001b[39m         res = shell.run_cell(code, store_history=store_history, silent=silent)\n",
      "\u001b[36mFile \u001b[39m\u001b[32mc:\\Users\\esc\\miniconda3\\envs\\0.12-env\\Lib\\site-packages\\ipykernel\\zmqshell.py:577\u001b[39m, in \u001b[36mZMQInteractiveShell.run_cell\u001b[39m\u001b[34m(self, *args, **kwargs)\u001b[39m\n\u001b[32m    575\u001b[39m \u001b[38;5;250m\u001b[39m\u001b[33;03m\"\"\"Run a cell.\"\"\"\u001b[39;00m\n\u001b[32m    576\u001b[39m \u001b[38;5;28mself\u001b[39m._last_traceback = \u001b[38;5;28;01mNone\u001b[39;00m\n\u001b[32m--> \u001b[39m\u001b[32m577\u001b[39m \u001b[38;5;28;01mreturn\u001b[39;00m \u001b[38;5;28;43msuper\u001b[39;49m\u001b[43m(\u001b[49m\u001b[43m)\u001b[49m\u001b[43m.\u001b[49m\u001b[43mrun_cell\u001b[49m\u001b[43m(\u001b[49m\u001b[43m*\u001b[49m\u001b[43margs\u001b[49m\u001b[43m,\u001b[49m\u001b[43m \u001b[49m\u001b[43m*\u001b[49m\u001b[43m*\u001b[49m\u001b[43mkwargs\u001b[49m\u001b[43m)\u001b[49m\n",
      "\u001b[36mFile \u001b[39m\u001b[32mc:\\Users\\esc\\miniconda3\\envs\\0.12-env\\Lib\\site-packages\\IPython\\core\\interactiveshell.py:3116\u001b[39m, in \u001b[36mInteractiveShell.run_cell\u001b[39m\u001b[34m(self, raw_cell, store_history, silent, shell_futures, cell_id)\u001b[39m\n\u001b[32m   3114\u001b[39m \u001b[38;5;28;01mwith\u001b[39;00m \u001b[38;5;28mself\u001b[39m._tee(channel=\u001b[33m\"\u001b[39m\u001b[33mstdout\u001b[39m\u001b[33m\"\u001b[39m), \u001b[38;5;28mself\u001b[39m._tee(channel=\u001b[33m\"\u001b[39m\u001b[33mstderr\u001b[39m\u001b[33m\"\u001b[39m):\n\u001b[32m   3115\u001b[39m     \u001b[38;5;28;01mtry\u001b[39;00m:\n\u001b[32m-> \u001b[39m\u001b[32m3116\u001b[39m         result = \u001b[38;5;28;43mself\u001b[39;49m\u001b[43m.\u001b[49m\u001b[43m_run_cell\u001b[49m\u001b[43m(\u001b[49m\n\u001b[32m   3117\u001b[39m \u001b[43m            \u001b[49m\u001b[43mraw_cell\u001b[49m\u001b[43m,\u001b[49m\u001b[43m \u001b[49m\u001b[43mstore_history\u001b[49m\u001b[43m,\u001b[49m\u001b[43m \u001b[49m\u001b[43msilent\u001b[49m\u001b[43m,\u001b[49m\u001b[43m \u001b[49m\u001b[43mshell_futures\u001b[49m\u001b[43m,\u001b[49m\u001b[43m \u001b[49m\u001b[43mcell_id\u001b[49m\n\u001b[32m   3118\u001b[39m \u001b[43m        \u001b[49m\u001b[43m)\u001b[49m\n\u001b[32m   3119\u001b[39m     \u001b[38;5;28;01mfinally\u001b[39;00m:\n\u001b[32m   3120\u001b[39m         \u001b[38;5;28mself\u001b[39m.events.trigger(\u001b[33m\"\u001b[39m\u001b[33mpost_execute\u001b[39m\u001b[33m\"\u001b[39m)\n",
      "\u001b[36mFile \u001b[39m\u001b[32mc:\\Users\\esc\\miniconda3\\envs\\0.12-env\\Lib\\site-packages\\IPython\\core\\interactiveshell.py:3171\u001b[39m, in \u001b[36mInteractiveShell._run_cell\u001b[39m\u001b[34m(self, raw_cell, store_history, silent, shell_futures, cell_id)\u001b[39m\n\u001b[32m   3168\u001b[39m     runner = _pseudo_sync_runner\n\u001b[32m   3170\u001b[39m \u001b[38;5;28;01mtry\u001b[39;00m:\n\u001b[32m-> \u001b[39m\u001b[32m3171\u001b[39m     result = \u001b[43mrunner\u001b[49m\u001b[43m(\u001b[49m\u001b[43mcoro\u001b[49m\u001b[43m)\u001b[49m\n\u001b[32m   3172\u001b[39m \u001b[38;5;28;01mexcept\u001b[39;00m \u001b[38;5;167;01mBaseException\u001b[39;00m \u001b[38;5;28;01mas\u001b[39;00m e:\n\u001b[32m   3173\u001b[39m     \u001b[38;5;28;01mtry\u001b[39;00m:\n",
      "\u001b[36mFile \u001b[39m\u001b[32mc:\\Users\\esc\\miniconda3\\envs\\0.12-env\\Lib\\site-packages\\IPython\\core\\async_helpers.py:128\u001b[39m, in \u001b[36m_pseudo_sync_runner\u001b[39m\u001b[34m(coro)\u001b[39m\n\u001b[32m    120\u001b[39m \u001b[38;5;250m\u001b[39m\u001b[33;03m\"\"\"\u001b[39;00m\n\u001b[32m    121\u001b[39m \u001b[33;03mA runner that does not really allow async execution, and just advance the coroutine.\u001b[39;00m\n\u001b[32m    122\u001b[39m \n\u001b[32m   (...)\u001b[39m\u001b[32m    125\u001b[39m \u001b[33;03mCredit to Nathaniel Smith\u001b[39;00m\n\u001b[32m    126\u001b[39m \u001b[33;03m\"\"\"\u001b[39;00m\n\u001b[32m    127\u001b[39m \u001b[38;5;28;01mtry\u001b[39;00m:\n\u001b[32m--> \u001b[39m\u001b[32m128\u001b[39m     coro.send(\u001b[38;5;28;01mNone\u001b[39;00m)\n\u001b[32m    129\u001b[39m \u001b[38;5;28;01mexcept\u001b[39;00m \u001b[38;5;167;01mStopIteration\u001b[39;00m \u001b[38;5;28;01mas\u001b[39;00m exc:\n\u001b[32m    130\u001b[39m     \u001b[38;5;28;01mreturn\u001b[39;00m exc.value\n",
      "\u001b[36mFile \u001b[39m\u001b[32mc:\\Users\\esc\\miniconda3\\envs\\0.12-env\\Lib\\site-packages\\IPython\\core\\interactiveshell.py:3394\u001b[39m, in \u001b[36mInteractiveShell.run_cell_async\u001b[39m\u001b[34m(self, raw_cell, store_history, silent, shell_futures, transformed_cell, preprocessing_exc_tuple, cell_id)\u001b[39m\n\u001b[32m   3390\u001b[39m \u001b[38;5;66;03m# Execute the user code\u001b[39;00m\n\u001b[32m   3391\u001b[39m interactivity = \u001b[33m\"\u001b[39m\u001b[33mnone\u001b[39m\u001b[33m\"\u001b[39m \u001b[38;5;28;01mif\u001b[39;00m silent \u001b[38;5;28;01melse\u001b[39;00m \u001b[38;5;28mself\u001b[39m.ast_node_interactivity\n\u001b[32m-> \u001b[39m\u001b[32m3394\u001b[39m has_raised = \u001b[38;5;28;01mawait\u001b[39;00m \u001b[38;5;28mself\u001b[39m.run_ast_nodes(code_ast.body, cell_name,\n\u001b[32m   3395\u001b[39m        interactivity=interactivity, compiler=compiler, result=result)\n\u001b[32m   3397\u001b[39m \u001b[38;5;28mself\u001b[39m.last_execution_succeeded = \u001b[38;5;129;01mnot\u001b[39;00m has_raised\n\u001b[32m   3398\u001b[39m \u001b[38;5;28mself\u001b[39m.last_execution_result = result\n",
      "\u001b[36mFile \u001b[39m\u001b[32mc:\\Users\\esc\\miniconda3\\envs\\0.12-env\\Lib\\site-packages\\IPython\\core\\interactiveshell.py:3639\u001b[39m, in \u001b[36mInteractiveShell.run_ast_nodes\u001b[39m\u001b[34m(self, nodelist, cell_name, interactivity, compiler, result)\u001b[39m\n\u001b[32m   3637\u001b[39m         code = compiler(mod, cell_name, mode)\n\u001b[32m   3638\u001b[39m         asy = compare(code)\n\u001b[32m-> \u001b[39m\u001b[32m3639\u001b[39m     \u001b[38;5;28;01mif\u001b[39;00m \u001b[38;5;28;01mawait\u001b[39;00m \u001b[38;5;28mself\u001b[39m.run_code(code, result, async_=asy):\n\u001b[32m   3640\u001b[39m         \u001b[38;5;28;01mreturn\u001b[39;00m \u001b[38;5;28;01mTrue\u001b[39;00m\n\u001b[32m   3642\u001b[39m \u001b[38;5;66;03m# Flush softspace\u001b[39;00m\n",
      "    \u001b[31m[... skipping hidden 1 frame]\u001b[39m\n",
      "\u001b[36mCell\u001b[39m\u001b[36m \u001b[39m\u001b[32mIn[7]\u001b[39m\u001b[32m, line 14\u001b[39m\n\u001b[32m     11\u001b[39m     name_cap = name.upper()\n\u001b[32m     12\u001b[39m     \u001b[38;5;28;01mreturn\u001b[39;00m concat_strings(str1=prefix_cap, str2=name_cap)\n\u001b[32m---> \u001b[39m\u001b[32m14\u001b[39m result = \u001b[43mcreate_greeting_in_all_caps\u001b[49m\u001b[43m(\u001b[49m\u001b[43mprefix\u001b[49m\u001b[43m=\u001b[49m\u001b[33;43m\"\u001b[39;49m\u001b[33;43mHello to \u001b[39;49m\u001b[33;43m\"\u001b[39;49m\u001b[43m,\u001b[49m\u001b[43m \u001b[49m\u001b[43mname\u001b[49m\u001b[43m=\u001b[49m\u001b[33;43m\"\u001b[39;49m\u001b[33;43mJohn\u001b[39;49m\u001b[33;43m\"\u001b[39;49m\u001b[43m)\u001b[49m\n\u001b[32m     15\u001b[39m workflow = construct(result, simplify_ids=\u001b[38;5;28;01mTrue\u001b[39;00m)\n\u001b[32m     16\u001b[39m cwl = render(workflow)\n",
      "\u001b[31mTaskException\u001b[39m: 'ParameterReference' object has no attribute 'upper'",
      "Task create_greeting_in_all_caps declared in <module> at C:\\Users\\esc\\AppData\\Local\\Temp\\ipykernel_362492\\1466609797.py:8\n@workflow()"
     ]
    }
   ],
   "source": [
    "from dewret.renderers.cwl import render\n",
    "from dewret.tasks import task, construct, workflow\n",
    "\n",
    "@task()\n",
    "def concat_strings(str1: str, str2: str) -> str:\n",
    "    return str1 + str2\n",
    "\n",
    "@workflow()\n",
    "def create_greeting_in_all_caps(prefix:str, name: str) -> str:\n",
    "    prefix_cap = prefix.upper()\n",
    "    name_cap = name.upper()\n",
    "    return concat_strings(str1=prefix_cap, str2=name_cap)\n",
    "\n",
    "result = create_greeting_in_all_caps(prefix=\"Hello to \", name=\"John\")\n",
    "workflow = construct(result, simplify_ids=True)\n",
    "cwl = render(workflow)\n",
    "cwl"
   ]
  }
 ],
 "metadata": {
  "kernelspec": {
   "display_name": "python3",
   "language": "python",
   "name": "python3"
  }
 },
 "nbformat": 4,
 "nbformat_minor": 5
}
